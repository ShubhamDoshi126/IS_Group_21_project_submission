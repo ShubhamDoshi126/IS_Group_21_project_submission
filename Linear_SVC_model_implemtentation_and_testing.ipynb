{
 "cells": [
  {
   "cell_type": "code",
   "execution_count": 1,
   "metadata": {
    "id": "3-vxqQd-9haB"
   },
   "outputs": [
    {
     "name": "stdout",
     "output_type": "stream",
     "text": [
      "Requirement already satisfied: langchain in c:\\users\\shubdosh\\appdata\\local\\programs\\python\\python312\\lib\\site-packages (0.2.17)\n",
      "Collecting langchain\n",
      "  Using cached langchain-0.3.11-py3-none-any.whl.metadata (7.1 kB)\n",
      "Requirement already satisfied: PyYAML>=5.3 in c:\\users\\shubdosh\\appdata\\local\\programs\\python\\python312\\lib\\site-packages (from langchain) (6.0.2)\n",
      "Requirement already satisfied: SQLAlchemy<3,>=1.4 in c:\\users\\shubdosh\\appdata\\local\\programs\\python\\python312\\lib\\site-packages (from langchain) (2.0.35)\n",
      "Requirement already satisfied: aiohttp<4.0.0,>=3.8.3 in c:\\users\\shubdosh\\appdata\\local\\programs\\python\\python312\\lib\\site-packages (from langchain) (3.11.2)\n",
      "Collecting langchain-core<0.4.0,>=0.3.24 (from langchain)\n",
      "  Using cached langchain_core-0.3.24-py3-none-any.whl.metadata (6.3 kB)\n",
      "Collecting langchain-text-splitters<0.4.0,>=0.3.0 (from langchain)\n",
      "  Using cached langchain_text_splitters-0.3.2-py3-none-any.whl.metadata (2.3 kB)\n",
      "Requirement already satisfied: langsmith<0.3,>=0.1.17 in c:\\users\\shubdosh\\appdata\\local\\programs\\python\\python312\\lib\\site-packages (from langchain) (0.1.112)\n",
      "Requirement already satisfied: numpy<3,>=1.26.2 in c:\\users\\shubdosh\\appdata\\local\\programs\\python\\python312\\lib\\site-packages (from langchain) (1.26.4)\n",
      "Requirement already satisfied: pydantic<3.0.0,>=2.7.4 in c:\\users\\shubdosh\\appdata\\local\\programs\\python\\python312\\lib\\site-packages (from langchain) (2.9.2)\n",
      "Requirement already satisfied: requests<3,>=2 in c:\\users\\shubdosh\\appdata\\local\\programs\\python\\python312\\lib\\site-packages (from langchain) (2.32.3)\n",
      "Requirement already satisfied: tenacity!=8.4.0,<10,>=8.1.0 in c:\\users\\shubdosh\\appdata\\local\\programs\\python\\python312\\lib\\site-packages (from langchain) (8.5.0)\n",
      "Requirement already satisfied: aiohappyeyeballs>=2.3.0 in c:\\users\\shubdosh\\appdata\\local\\programs\\python\\python312\\lib\\site-packages (from aiohttp<4.0.0,>=3.8.3->langchain) (2.4.3)\n",
      "Requirement already satisfied: aiosignal>=1.1.2 in c:\\users\\shubdosh\\appdata\\local\\programs\\python\\python312\\lib\\site-packages (from aiohttp<4.0.0,>=3.8.3->langchain) (1.3.1)\n",
      "Requirement already satisfied: attrs>=17.3.0 in c:\\users\\shubdosh\\appdata\\local\\programs\\python\\python312\\lib\\site-packages (from aiohttp<4.0.0,>=3.8.3->langchain) (24.2.0)\n",
      "Requirement already satisfied: frozenlist>=1.1.1 in c:\\users\\shubdosh\\appdata\\local\\programs\\python\\python312\\lib\\site-packages (from aiohttp<4.0.0,>=3.8.3->langchain) (1.5.0)\n",
      "Requirement already satisfied: multidict<7.0,>=4.5 in c:\\users\\shubdosh\\appdata\\local\\programs\\python\\python312\\lib\\site-packages (from aiohttp<4.0.0,>=3.8.3->langchain) (6.1.0)\n",
      "Requirement already satisfied: propcache>=0.2.0 in c:\\users\\shubdosh\\appdata\\local\\programs\\python\\python312\\lib\\site-packages (from aiohttp<4.0.0,>=3.8.3->langchain) (0.2.0)\n",
      "Requirement already satisfied: yarl<2.0,>=1.17.0 in c:\\users\\shubdosh\\appdata\\local\\programs\\python\\python312\\lib\\site-packages (from aiohttp<4.0.0,>=3.8.3->langchain) (1.17.2)\n",
      "Requirement already satisfied: jsonpatch<2.0,>=1.33 in c:\\users\\shubdosh\\appdata\\local\\programs\\python\\python312\\lib\\site-packages (from langchain-core<0.4.0,>=0.3.24->langchain) (1.33)\n",
      "Collecting langsmith<0.3,>=0.1.17 (from langchain)\n",
      "  Using cached langsmith-0.2.3-py3-none-any.whl.metadata (14 kB)\n",
      "Requirement already satisfied: packaging<25,>=23.2 in c:\\users\\shubdosh\\appdata\\local\\programs\\python\\python312\\lib\\site-packages (from langchain-core<0.4.0,>=0.3.24->langchain) (24.1)\n",
      "Requirement already satisfied: typing-extensions>=4.7 in c:\\users\\shubdosh\\appdata\\local\\programs\\python\\python312\\lib\\site-packages (from langchain-core<0.4.0,>=0.3.24->langchain) (4.12.2)\n",
      "Requirement already satisfied: httpx<1,>=0.23.0 in c:\\users\\shubdosh\\appdata\\local\\programs\\python\\python312\\lib\\site-packages (from langsmith<0.3,>=0.1.17->langchain) (0.27.2)\n",
      "Requirement already satisfied: orjson<4.0.0,>=3.9.14 in c:\\users\\shubdosh\\appdata\\local\\programs\\python\\python312\\lib\\site-packages (from langsmith<0.3,>=0.1.17->langchain) (3.10.11)\n",
      "Requirement already satisfied: requests-toolbelt<2.0.0,>=1.0.0 in c:\\users\\shubdosh\\appdata\\local\\programs\\python\\python312\\lib\\site-packages (from langsmith<0.3,>=0.1.17->langchain) (1.0.0)\n",
      "Requirement already satisfied: annotated-types>=0.6.0 in c:\\users\\shubdosh\\appdata\\local\\programs\\python\\python312\\lib\\site-packages (from pydantic<3.0.0,>=2.7.4->langchain) (0.7.0)\n",
      "Requirement already satisfied: pydantic-core==2.23.4 in c:\\users\\shubdosh\\appdata\\local\\programs\\python\\python312\\lib\\site-packages (from pydantic<3.0.0,>=2.7.4->langchain) (2.23.4)\n",
      "Requirement already satisfied: charset-normalizer<4,>=2 in c:\\users\\shubdosh\\appdata\\local\\programs\\python\\python312\\lib\\site-packages (from requests<3,>=2->langchain) (3.3.2)\n",
      "Requirement already satisfied: idna<4,>=2.5 in c:\\users\\shubdosh\\appdata\\local\\programs\\python\\python312\\lib\\site-packages (from requests<3,>=2->langchain) (3.8)\n",
      "Requirement already satisfied: urllib3<3,>=1.21.1 in c:\\users\\shubdosh\\appdata\\local\\programs\\python\\python312\\lib\\site-packages (from requests<3,>=2->langchain) (2.2.2)\n",
      "Requirement already satisfied: certifi>=2017.4.17 in c:\\users\\shubdosh\\appdata\\local\\programs\\python\\python312\\lib\\site-packages (from requests<3,>=2->langchain) (2024.8.30)\n",
      "Requirement already satisfied: greenlet!=0.4.17 in c:\\users\\shubdosh\\appdata\\local\\programs\\python\\python312\\lib\\site-packages (from SQLAlchemy<3,>=1.4->langchain) (3.1.1)\n",
      "Requirement already satisfied: anyio in c:\\users\\shubdosh\\appdata\\local\\programs\\python\\python312\\lib\\site-packages (from httpx<1,>=0.23.0->langsmith<0.3,>=0.1.17->langchain) (4.6.2.post1)\n",
      "Requirement already satisfied: httpcore==1.* in c:\\users\\shubdosh\\appdata\\local\\programs\\python\\python312\\lib\\site-packages (from httpx<1,>=0.23.0->langsmith<0.3,>=0.1.17->langchain) (1.0.7)\n",
      "Requirement already satisfied: sniffio in c:\\users\\shubdosh\\appdata\\local\\programs\\python\\python312\\lib\\site-packages (from httpx<1,>=0.23.0->langsmith<0.3,>=0.1.17->langchain) (1.3.1)\n",
      "Requirement already satisfied: h11<0.15,>=0.13 in c:\\users\\shubdosh\\appdata\\local\\programs\\python\\python312\\lib\\site-packages (from httpcore==1.*->httpx<1,>=0.23.0->langsmith<0.3,>=0.1.17->langchain) (0.14.0)\n",
      "Requirement already satisfied: jsonpointer>=1.9 in c:\\users\\shubdosh\\appdata\\local\\programs\\python\\python312\\lib\\site-packages (from jsonpatch<2.0,>=1.33->langchain-core<0.4.0,>=0.3.24->langchain) (3.0.0)\n",
      "Using cached langchain-0.3.11-py3-none-any.whl (1.0 MB)\n",
      "Using cached langchain_core-0.3.24-py3-none-any.whl (410 kB)\n",
      "Using cached langchain_text_splitters-0.3.2-py3-none-any.whl (25 kB)\n",
      "Using cached langsmith-0.2.3-py3-none-any.whl (320 kB)\n",
      "Installing collected packages: langsmith, langchain-core, langchain-text-splitters, langchain\n",
      "  Attempting uninstall: langsmith\n",
      "    Found existing installation: langsmith 0.1.112\n",
      "    Uninstalling langsmith-0.1.112:\n",
      "      Successfully uninstalled langsmith-0.1.112\n",
      "  Attempting uninstall: langchain-core\n",
      "    Found existing installation: langchain-core 0.2.43\n",
      "    Uninstalling langchain-core-0.2.43:\n",
      "      Successfully uninstalled langchain-core-0.2.43\n",
      "  Attempting uninstall: langchain-text-splitters\n",
      "    Found existing installation: langchain-text-splitters 0.2.4\n",
      "    Uninstalling langchain-text-splitters-0.2.4:\n",
      "      Successfully uninstalled langchain-text-splitters-0.2.4\n",
      "  Attempting uninstall: langchain\n",
      "    Found existing installation: langchain 0.2.17\n",
      "    Uninstalling langchain-0.2.17:\n",
      "      Successfully uninstalled langchain-0.2.17\n",
      "Successfully installed langchain-0.3.11 langchain-core-0.3.24 langchain-text-splitters-0.3.2 langsmith-0.2.3\n"
     ]
    },
    {
     "name": "stderr",
     "output_type": "stream",
     "text": [
      "ERROR: pip's dependency resolver does not currently take into account all the packages that are installed. This behaviour is the source of the following dependency conflicts.\n",
      "langchain-community 0.2.19 requires langchain<0.3.0,>=0.2.17, but you have langchain 0.3.11 which is incompatible.\n",
      "langchain-community 0.2.19 requires langchain-core<0.3.0,>=0.2.43, but you have langchain-core 0.3.24 which is incompatible.\n",
      "langchain-community 0.2.19 requires langsmith<0.2.0,>=0.1.112, but you have langsmith 0.2.3 which is incompatible.\n",
      "\n",
      "[notice] A new release of pip is available: 24.2 -> 24.3.1\n",
      "[notice] To update, run: python.exe -m pip install --upgrade pip\n"
     ]
    },
    {
     "name": "stdout",
     "output_type": "stream",
     "text": [
      "Requirement already satisfied: langchain-community in c:\\users\\shubdosh\\appdata\\local\\programs\\python\\python312\\lib\\site-packages (0.2.19)"
     ]
    },
    {
     "name": "stderr",
     "output_type": "stream",
     "text": [
      "\n",
      "[notice] A new release of pip is available: 24.2 -> 24.3.1\n",
      "[notice] To update, run: python.exe -m pip install --upgrade pip\n"
     ]
    },
    {
     "name": "stdout",
     "output_type": "stream",
     "text": [
      "\n",
      "Requirement already satisfied: PyYAML>=5.3 in c:\\users\\shubdosh\\appdata\\local\\programs\\python\\python312\\lib\\site-packages (from langchain-community) (6.0.2)\n",
      "Requirement already satisfied: SQLAlchemy<3,>=1.4 in c:\\users\\shubdosh\\appdata\\local\\programs\\python\\python312\\lib\\site-packages (from langchain-community) (2.0.35)\n",
      "Requirement already satisfied: aiohttp<4.0.0,>=3.8.3 in c:\\users\\shubdosh\\appdata\\local\\programs\\python\\python312\\lib\\site-packages (from langchain-community) (3.11.2)\n",
      "Requirement already satisfied: dataclasses-json<0.7,>=0.5.7 in c:\\users\\shubdosh\\appdata\\local\\programs\\python\\python312\\lib\\site-packages (from langchain-community) (0.6.7)\n",
      "Collecting langchain<0.3.0,>=0.2.17 (from langchain-community)\n",
      "  Using cached langchain-0.2.17-py3-none-any.whl.metadata (7.1 kB)\n",
      "Collecting langchain-core<0.3.0,>=0.2.43 (from langchain-community)\n",
      "  Using cached langchain_core-0.2.43-py3-none-any.whl.metadata (6.2 kB)\n",
      "Collecting langsmith<0.2.0,>=0.1.112 (from langchain-community)\n",
      "  Using cached langsmith-0.1.147-py3-none-any.whl.metadata (14 kB)\n",
      "Requirement already satisfied: numpy<2.0.0,>=1.26.0 in c:\\users\\shubdosh\\appdata\\local\\programs\\python\\python312\\lib\\site-packages (from langchain-community) (1.26.4)\n",
      "Requirement already satisfied: requests<3,>=2 in c:\\users\\shubdosh\\appdata\\local\\programs\\python\\python312\\lib\\site-packages (from langchain-community) (2.32.3)\n",
      "Requirement already satisfied: tenacity!=8.4.0,<9.0.0,>=8.1.0 in c:\\users\\shubdosh\\appdata\\local\\programs\\python\\python312\\lib\\site-packages (from langchain-community) (8.5.0)\n",
      "Requirement already satisfied: aiohappyeyeballs>=2.3.0 in c:\\users\\shubdosh\\appdata\\local\\programs\\python\\python312\\lib\\site-packages (from aiohttp<4.0.0,>=3.8.3->langchain-community) (2.4.3)\n",
      "Requirement already satisfied: aiosignal>=1.1.2 in c:\\users\\shubdosh\\appdata\\local\\programs\\python\\python312\\lib\\site-packages (from aiohttp<4.0.0,>=3.8.3->langchain-community) (1.3.1)\n",
      "Requirement already satisfied: attrs>=17.3.0 in c:\\users\\shubdosh\\appdata\\local\\programs\\python\\python312\\lib\\site-packages (from aiohttp<4.0.0,>=3.8.3->langchain-community) (24.2.0)\n",
      "Requirement already satisfied: frozenlist>=1.1.1 in c:\\users\\shubdosh\\appdata\\local\\programs\\python\\python312\\lib\\site-packages (from aiohttp<4.0.0,>=3.8.3->langchain-community) (1.5.0)\n",
      "Requirement already satisfied: multidict<7.0,>=4.5 in c:\\users\\shubdosh\\appdata\\local\\programs\\python\\python312\\lib\\site-packages (from aiohttp<4.0.0,>=3.8.3->langchain-community) (6.1.0)\n",
      "Requirement already satisfied: propcache>=0.2.0 in c:\\users\\shubdosh\\appdata\\local\\programs\\python\\python312\\lib\\site-packages (from aiohttp<4.0.0,>=3.8.3->langchain-community) (0.2.0)\n",
      "Requirement already satisfied: yarl<2.0,>=1.17.0 in c:\\users\\shubdosh\\appdata\\local\\programs\\python\\python312\\lib\\site-packages (from aiohttp<4.0.0,>=3.8.3->langchain-community) (1.17.2)\n",
      "Requirement already satisfied: marshmallow<4.0.0,>=3.18.0 in c:\\users\\shubdosh\\appdata\\local\\programs\\python\\python312\\lib\\site-packages (from dataclasses-json<0.7,>=0.5.7->langchain-community) (3.23.1)\n",
      "Requirement already satisfied: typing-inspect<1,>=0.4.0 in c:\\users\\shubdosh\\appdata\\local\\programs\\python\\python312\\lib\\site-packages (from dataclasses-json<0.7,>=0.5.7->langchain-community) (0.9.0)\n",
      "Collecting langchain-text-splitters<0.3.0,>=0.2.0 (from langchain<0.3.0,>=0.2.17->langchain-community)\n",
      "  Using cached langchain_text_splitters-0.2.4-py3-none-any.whl.metadata (2.3 kB)\n",
      "Requirement already satisfied: pydantic<3,>=1 in c:\\users\\shubdosh\\appdata\\local\\programs\\python\\python312\\lib\\site-packages (from langchain<0.3.0,>=0.2.17->langchain-community) (2.9.2)\n",
      "Requirement already satisfied: jsonpatch<2.0,>=1.33 in c:\\users\\shubdosh\\appdata\\local\\programs\\python\\python312\\lib\\site-packages (from langchain-core<0.3.0,>=0.2.43->langchain-community) (1.33)\n",
      "Requirement already satisfied: packaging<25,>=23.2 in c:\\users\\shubdosh\\appdata\\local\\programs\\python\\python312\\lib\\site-packages (from langchain-core<0.3.0,>=0.2.43->langchain-community) (24.1)\n",
      "Requirement already satisfied: typing-extensions>=4.7 in c:\\users\\shubdosh\\appdata\\local\\programs\\python\\python312\\lib\\site-packages (from langchain-core<0.3.0,>=0.2.43->langchain-community) (4.12.2)\n",
      "Requirement already satisfied: httpx<1,>=0.23.0 in c:\\users\\shubdosh\\appdata\\local\\programs\\python\\python312\\lib\\site-packages (from langsmith<0.2.0,>=0.1.112->langchain-community) (0.27.2)\n",
      "Requirement already satisfied: orjson<4.0.0,>=3.9.14 in c:\\users\\shubdosh\\appdata\\local\\programs\\python\\python312\\lib\\site-packages (from langsmith<0.2.0,>=0.1.112->langchain-community) (3.10.11)\n",
      "Requirement already satisfied: requests-toolbelt<2.0.0,>=1.0.0 in c:\\users\\shubdosh\\appdata\\local\\programs\\python\\python312\\lib\\site-packages (from langsmith<0.2.0,>=0.1.112->langchain-community) (1.0.0)\n",
      "Requirement already satisfied: charset-normalizer<4,>=2 in c:\\users\\shubdosh\\appdata\\local\\programs\\python\\python312\\lib\\site-packages (from requests<3,>=2->langchain-community) (3.3.2)\n",
      "Requirement already satisfied: idna<4,>=2.5 in c:\\users\\shubdosh\\appdata\\local\\programs\\python\\python312\\lib\\site-packages (from requests<3,>=2->langchain-community) (3.8)\n",
      "Requirement already satisfied: urllib3<3,>=1.21.1 in c:\\users\\shubdosh\\appdata\\local\\programs\\python\\python312\\lib\\site-packages (from requests<3,>=2->langchain-community) (2.2.2)\n",
      "Requirement already satisfied: certifi>=2017.4.17 in c:\\users\\shubdosh\\appdata\\local\\programs\\python\\python312\\lib\\site-packages (from requests<3,>=2->langchain-community) (2024.8.30)\n",
      "Requirement already satisfied: greenlet!=0.4.17 in c:\\users\\shubdosh\\appdata\\local\\programs\\python\\python312\\lib\\site-packages (from SQLAlchemy<3,>=1.4->langchain-community) (3.1.1)\n",
      "Requirement already satisfied: anyio in c:\\users\\shubdosh\\appdata\\local\\programs\\python\\python312\\lib\\site-packages (from httpx<1,>=0.23.0->langsmith<0.2.0,>=0.1.112->langchain-community) (4.6.2.post1)\n",
      "Requirement already satisfied: httpcore==1.* in c:\\users\\shubdosh\\appdata\\local\\programs\\python\\python312\\lib\\site-packages (from httpx<1,>=0.23.0->langsmith<0.2.0,>=0.1.112->langchain-community) (1.0.7)\n",
      "Requirement already satisfied: sniffio in c:\\users\\shubdosh\\appdata\\local\\programs\\python\\python312\\lib\\site-packages (from httpx<1,>=0.23.0->langsmith<0.2.0,>=0.1.112->langchain-community) (1.3.1)\n",
      "Requirement already satisfied: h11<0.15,>=0.13 in c:\\users\\shubdosh\\appdata\\local\\programs\\python\\python312\\lib\\site-packages (from httpcore==1.*->httpx<1,>=0.23.0->langsmith<0.2.0,>=0.1.112->langchain-community) (0.14.0)\n",
      "Requirement already satisfied: jsonpointer>=1.9 in c:\\users\\shubdosh\\appdata\\local\\programs\\python\\python312\\lib\\site-packages (from jsonpatch<2.0,>=1.33->langchain-core<0.3.0,>=0.2.43->langchain-community) (3.0.0)\n",
      "Requirement already satisfied: annotated-types>=0.6.0 in c:\\users\\shubdosh\\appdata\\local\\programs\\python\\python312\\lib\\site-packages (from pydantic<3,>=1->langchain<0.3.0,>=0.2.17->langchain-community) (0.7.0)\n",
      "Requirement already satisfied: pydantic-core==2.23.4 in c:\\users\\shubdosh\\appdata\\local\\programs\\python\\python312\\lib\\site-packages (from pydantic<3,>=1->langchain<0.3.0,>=0.2.17->langchain-community) (2.23.4)\n",
      "Requirement already satisfied: mypy-extensions>=0.3.0 in c:\\users\\shubdosh\\appdata\\local\\programs\\python\\python312\\lib\\site-packages (from typing-inspect<1,>=0.4.0->dataclasses-json<0.7,>=0.5.7->langchain-community) (1.0.0)\n",
      "Using cached langchain-0.2.17-py3-none-any.whl (1.0 MB)\n",
      "Using cached langchain_core-0.2.43-py3-none-any.whl (397 kB)\n",
      "Using cached langsmith-0.1.147-py3-none-any.whl (311 kB)\n",
      "Using cached langchain_text_splitters-0.2.4-py3-none-any.whl (25 kB)\n",
      "Installing collected packages: langsmith, langchain-core, langchain-text-splitters, langchain\n",
      "  Attempting uninstall: langsmith\n",
      "    Found existing installation: langsmith 0.2.3\n",
      "    Uninstalling langsmith-0.2.3:\n",
      "      Successfully uninstalled langsmith-0.2.3\n",
      "  Attempting uninstall: langchain-core\n",
      "    Found existing installation: langchain-core 0.3.24\n",
      "    Uninstalling langchain-core-0.3.24:\n",
      "      Successfully uninstalled langchain-core-0.3.24\n",
      "  Attempting uninstall: langchain-text-splitters\n",
      "    Found existing installation: langchain-text-splitters 0.3.2\n",
      "    Uninstalling langchain-text-splitters-0.3.2:\n",
      "      Successfully uninstalled langchain-text-splitters-0.3.2\n",
      "  Attempting uninstall: langchain\n",
      "    Found existing installation: langchain 0.3.11\n",
      "    Uninstalling langchain-0.3.11:\n",
      "      Successfully uninstalled langchain-0.3.11\n",
      "Successfully installed langchain-0.2.17 langchain-core-0.2.43 langchain-text-splitters-0.2.4 langsmith-0.1.147\n",
      "Requirement already satisfied: langchain==0.2.17 in c:\\users\\shubdosh\\appdata\\local\\programs\\python\\python312\\lib\\site-packages (0.2.17)\n",
      "Requirement already satisfied: langchain-community==0.2.19 in c:\\users\\shubdosh\\appdata\\local\\programs\\python\\python312\\lib\\site-packages (0.2.19)\n",
      "Collecting langsmith==0.1.112\n",
      "  Using cached langsmith-0.1.112-py3-none-any.whl.metadata (13 kB)\n",
      "Requirement already satisfied: PyYAML>=5.3 in c:\\users\\shubdosh\\appdata\\local\\programs\\python\\python312\\lib\\site-packages (from langchain==0.2.17) (6.0.2)\n",
      "Requirement already satisfied: SQLAlchemy<3,>=1.4 in c:\\users\\shubdosh\\appdata\\local\\programs\\python\\python312\\lib\\site-packages (from langchain==0.2.17) (2.0.35)\n",
      "Requirement already satisfied: aiohttp<4.0.0,>=3.8.3 in c:\\users\\shubdosh\\appdata\\local\\programs\\python\\python312\\lib\\site-packages (from langchain==0.2.17) (3.11.2)\n",
      "Requirement already satisfied: langchain-core<0.3.0,>=0.2.43 in c:\\users\\shubdosh\\appdata\\local\\programs\\python\\python312\\lib\\site-packages (from langchain==0.2.17) (0.2.43)\n",
      "Requirement already satisfied: langchain-text-splitters<0.3.0,>=0.2.0 in c:\\users\\shubdosh\\appdata\\local\\programs\\python\\python312\\lib\\site-packages (from langchain==0.2.17) (0.2.4)\n",
      "Requirement already satisfied: numpy<2.0.0,>=1.26.0 in c:\\users\\shubdosh\\appdata\\local\\programs\\python\\python312\\lib\\site-packages (from langchain==0.2.17) (1.26.4)\n",
      "Requirement already satisfied: pydantic<3,>=1 in c:\\users\\shubdosh\\appdata\\local\\programs\\python\\python312\\lib\\site-packages (from langchain==0.2.17) (2.9.2)\n",
      "Requirement already satisfied: requests<3,>=2 in c:\\users\\shubdosh\\appdata\\local\\programs\\python\\python312\\lib\\site-packages (from langchain==0.2.17) (2.32.3)\n",
      "Requirement already satisfied: tenacity!=8.4.0,<9.0.0,>=8.1.0 in c:\\users\\shubdosh\\appdata\\local\\programs\\python\\python312\\lib\\site-packages (from langchain==0.2.17) (8.5.0)\n",
      "Requirement already satisfied: dataclasses-json<0.7,>=0.5.7 in c:\\users\\shubdosh\\appdata\\local\\programs\\python\\python312\\lib\\site-packages (from langchain-community==0.2.19) (0.6.7)\n",
      "Requirement already satisfied: httpx<1,>=0.23.0 in c:\\users\\shubdosh\\appdata\\local\\programs\\python\\python312\\lib\\site-packages (from langsmith==0.1.112) (0.27.2)\n",
      "Requirement already satisfied: orjson<4.0.0,>=3.9.14 in c:\\users\\shubdosh\\appdata\\local\\programs\\python\\python312\\lib\\site-packages (from langsmith==0.1.112) (3.10.11)\n",
      "Requirement already satisfied: aiohappyeyeballs>=2.3.0 in c:\\users\\shubdosh\\appdata\\local\\programs\\python\\python312\\lib\\site-packages (from aiohttp<4.0.0,>=3.8.3->langchain==0.2.17) (2.4.3)\n",
      "Requirement already satisfied: aiosignal>=1.1.2 in c:\\users\\shubdosh\\appdata\\local\\programs\\python\\python312\\lib\\site-packages (from aiohttp<4.0.0,>=3.8.3->langchain==0.2.17) (1.3.1)\n",
      "Requirement already satisfied: attrs>=17.3.0 in c:\\users\\shubdosh\\appdata\\local\\programs\\python\\python312\\lib\\site-packages (from aiohttp<4.0.0,>=3.8.3->langchain==0.2.17) (24.2.0)\n",
      "Requirement already satisfied: frozenlist>=1.1.1 in c:\\users\\shubdosh\\appdata\\local\\programs\\python\\python312\\lib\\site-packages (from aiohttp<4.0.0,>=3.8.3->langchain==0.2.17) (1.5.0)\n",
      "Requirement already satisfied: multidict<7.0,>=4.5 in c:\\users\\shubdosh\\appdata\\local\\programs\\python\\python312\\lib\\site-packages (from aiohttp<4.0.0,>=3.8.3->langchain==0.2.17) (6.1.0)\n",
      "Requirement already satisfied: propcache>=0.2.0 in c:\\users\\shubdosh\\appdata\\local\\programs\\python\\python312\\lib\\site-packages (from aiohttp<4.0.0,>=3.8.3->langchain==0.2.17) (0.2.0)\n",
      "Requirement already satisfied: yarl<2.0,>=1.17.0 in c:\\users\\shubdosh\\appdata\\local\\programs\\python\\python312\\lib\\site-packages (from aiohttp<4.0.0,>=3.8.3->langchain==0.2.17) (1.17.2)\n",
      "Requirement already satisfied: marshmallow<4.0.0,>=3.18.0 in c:\\users\\shubdosh\\appdata\\local\\programs\\python\\python312\\lib\\site-packages (from dataclasses-json<0.7,>=0.5.7->langchain-community==0.2.19) (3.23.1)\n",
      "Requirement already satisfied: typing-inspect<1,>=0.4.0 in c:\\users\\shubdosh\\appdata\\local\\programs\\python\\python312\\lib\\site-packages (from dataclasses-json<0.7,>=0.5.7->langchain-community==0.2.19) (0.9.0)\n",
      "Requirement already satisfied: anyio in c:\\users\\shubdosh\\appdata\\local\\programs\\python\\python312\\lib\\site-packages (from httpx<1,>=0.23.0->langsmith==0.1.112) (4.6.2.post1)\n",
      "Requirement already satisfied: certifi in c:\\users\\shubdosh\\appdata\\local\\programs\\python\\python312\\lib\\site-packages (from httpx<1,>=0.23.0->langsmith==0.1.112) (2024.8.30)\n",
      "Requirement already satisfied: httpcore==1.* in c:\\users\\shubdosh\\appdata\\local\\programs\\python\\python312\\lib\\site-packages (from httpx<1,>=0.23.0->langsmith==0.1.112) (1.0.7)\n",
      "Requirement already satisfied: idna in c:\\users\\shubdosh\\appdata\\local\\programs\\python\\python312\\lib\\site-packages (from httpx<1,>=0.23.0->langsmith==0.1.112) (3.8)\n",
      "Requirement already satisfied: sniffio in c:\\users\\shubdosh\\appdata\\local\\programs\\python\\python312\\lib\\site-packages (from httpx<1,>=0.23.0->langsmith==0.1.112) (1.3.1)\n",
      "Requirement already satisfied: h11<0.15,>=0.13 in c:\\users\\shubdosh\\appdata\\local\\programs\\python\\python312\\lib\\site-packages (from httpcore==1.*->httpx<1,>=0.23.0->langsmith==0.1.112) (0.14.0)\n",
      "Requirement already satisfied: jsonpatch<2.0,>=1.33 in c:\\users\\shubdosh\\appdata\\local\\programs\\python\\python312\\lib\\site-packages (from langchain-core<0.3.0,>=0.2.43->langchain==0.2.17) (1.33)\n",
      "Requirement already satisfied: packaging<25,>=23.2 in c:\\users\\shubdosh\\appdata\\local\\programs\\python\\python312\\lib\\site-packages (from langchain-core<0.3.0,>=0.2.43->langchain==0.2.17) (24.1)\n",
      "Requirement already satisfied: typing-extensions>=4.7 in c:\\users\\shubdosh\\appdata\\local\\programs\\python\\python312\\lib\\site-packages (from langchain-core<0.3.0,>=0.2.43->langchain==0.2.17) (4.12.2)\n",
      "Requirement already satisfied: annotated-types>=0.6.0 in c:\\users\\shubdosh\\appdata\\local\\programs\\python\\python312\\lib\\site-packages (from pydantic<3,>=1->langchain==0.2.17) (0.7.0)\n",
      "Requirement already satisfied: pydantic-core==2.23.4 in c:\\users\\shubdosh\\appdata\\local\\programs\\python\\python312\\lib\\site-packages (from pydantic<3,>=1->langchain==0.2.17) (2.23.4)\n",
      "Requirement already satisfied: charset-normalizer<4,>=2 in c:\\users\\shubdosh\\appdata\\local\\programs\\python\\python312\\lib\\site-packages (from requests<3,>=2->langchain==0.2.17) (3.3.2)\n",
      "Requirement already satisfied: urllib3<3,>=1.21.1 in c:\\users\\shubdosh\\appdata\\local\\programs\\python\\python312\\lib\\site-packages (from requests<3,>=2->langchain==0.2.17) (2.2.2)\n",
      "Requirement already satisfied: greenlet!=0.4.17 in c:\\users\\shubdosh\\appdata\\local\\programs\\python\\python312\\lib\\site-packages (from SQLAlchemy<3,>=1.4->langchain==0.2.17) (3.1.1)\n",
      "Requirement already satisfied: jsonpointer>=1.9 in c:\\users\\shubdosh\\appdata\\local\\programs\\python\\python312\\lib\\site-packages (from jsonpatch<2.0,>=1.33->langchain-core<0.3.0,>=0.2.43->langchain==0.2.17) (3.0.0)\n",
      "Requirement already satisfied: mypy-extensions>=0.3.0 in c:\\users\\shubdosh\\appdata\\local\\programs\\python\\python312\\lib\\site-packages (from typing-inspect<1,>=0.4.0->dataclasses-json<0.7,>=0.5.7->langchain-community==0.2.19) (1.0.0)\n",
      "Using cached langsmith-0.1.112-py3-none-any.whl (288 kB)\n",
      "Installing collected packages: langsmith\n",
      "  Attempting uninstall: langsmith\n",
      "    Found existing installation: langsmith 0.1.147\n",
      "    Uninstalling langsmith-0.1.147:\n",
      "      Successfully uninstalled langsmith-0.1.147\n",
      "Successfully installed langsmith-0.1.112\n"
     ]
    },
    {
     "name": "stderr",
     "output_type": "stream",
     "text": [
      "\n",
      "[notice] A new release of pip is available: 24.2 -> 24.3.1\n",
      "[notice] To update, run: python.exe -m pip install --upgrade pip\n"
     ]
    },
    {
     "name": "stdout",
     "output_type": "stream",
     "text": [
      "Requirement already satisfied: google-generativeai in c:\\users\\shubdosh\\appdata\\local\\programs\\python\\python312\\lib\\site-packages (0.8.3)\n",
      "Requirement already satisfied: google-ai-generativelanguage==0.6.10 in c:\\users\\shubdosh\\appdata\\local\\programs\\python\\python312\\lib\\site-packages (from google-generativeai) (0.6.10)\n",
      "Requirement already satisfied: google-api-core in c:\\users\\shubdosh\\appdata\\local\\programs\\python\\python312\\lib\\site-packages (from google-generativeai) (2.19.2)\n",
      "Requirement already satisfied: google-api-python-client in c:\\users\\shubdosh\\appdata\\local\\programs\\python\\python312\\lib\\site-packages (from google-generativeai) (2.144.0)\n",
      "Requirement already satisfied: google-auth>=2.15.0 in c:\\users\\shubdosh\\appdata\\local\\programs\\python\\python312\\lib\\site-packages (from google-generativeai) (2.34.0)\n",
      "Requirement already satisfied: protobuf in c:\\users\\shubdosh\\appdata\\local\\programs\\python\\python312\\lib\\site-packages (from google-generativeai) (5.28.0)\n",
      "Requirement already satisfied: pydantic in c:\\users\\shubdosh\\appdata\\local\\programs\\python\\python312\\lib\\site-packages (from google-generativeai) (2.9.2)\n",
      "Requirement already satisfied: tqdm in c:\\users\\shubdosh\\appdata\\local\\programs\\python\\python312\\lib\\site-packages (from google-generativeai) (4.66.5)\n",
      "Requirement already satisfied: typing-extensions in c:\\users\\shubdosh\\appdata\\local\\programs\\python\\python312\\lib\\site-packages (from google-generativeai) (4.12.2)\n",
      "Requirement already satisfied: proto-plus<2.0.0dev,>=1.22.3 in c:\\users\\shubdosh\\appdata\\local\\programs\\python\\python312\\lib\\site-packages (from google-ai-generativelanguage==0.6.10->google-generativeai) (1.24.0)\n",
      "Requirement already satisfied: googleapis-common-protos<2.0.dev0,>=1.56.2 in c:\\users\\shubdosh\\appdata\\local\\programs\\python\\python312\\lib\\site-packages (from google-api-core->google-generativeai) (1.65.0)\n",
      "Requirement already satisfied: requests<3.0.0.dev0,>=2.18.0 in c:\\users\\shubdosh\\appdata\\local\\programs\\python\\python312\\lib\\site-packages (from google-api-core->google-generativeai) (2.32.3)\n",
      "Requirement already satisfied: cachetools<6.0,>=2.0.0 in c:\\users\\shubdosh\\appdata\\local\\programs\\python\\python312\\lib\\site-packages (from google-auth>=2.15.0->google-generativeai) (5.5.0)\n",
      "Requirement already satisfied: pyasn1-modules>=0.2.1 in c:\\users\\shubdosh\\appdata\\local\\programs\\python\\python312\\lib\\site-packages (from google-auth>=2.15.0->google-generativeai) (0.4.0)\n",
      "Requirement already satisfied: rsa<5,>=3.1.4 in c:\\users\\shubdosh\\appdata\\local\\programs\\python\\python312\\lib\\site-packages (from google-auth>=2.15.0->google-generativeai) (4.9)\n",
      "Requirement already satisfied: httplib2<1.dev0,>=0.19.0 in c:\\users\\shubdosh\\appdata\\local\\programs\\python\\python312\\lib\\site-packages (from google-api-python-client->google-generativeai) (0.22.0)\n",
      "Requirement already satisfied: google-auth-httplib2<1.0.0,>=0.2.0 in c:\\users\\shubdosh\\appdata\\local\\programs\\python\\python312\\lib\\site-packages (from google-api-python-client->google-generativeai) (0.2.0)\n",
      "Requirement already satisfied: uritemplate<5,>=3.0.1 in c:\\users\\shubdosh\\appdata\\local\\programs\\python\\python312\\lib\\site-packages (from google-api-python-client->google-generativeai) (4.1.1)\n",
      "Requirement already satisfied: annotated-types>=0.6.0 in c:\\users\\shubdosh\\appdata\\local\\programs\\python\\python312\\lib\\site-packages (from pydantic->google-generativeai) (0.7.0)\n",
      "Requirement already satisfied: pydantic-core==2.23.4 in c:\\users\\shubdosh\\appdata\\local\\programs\\python\\python312\\lib\\site-packages (from pydantic->google-generativeai) (2.23.4)\n",
      "Requirement already satisfied: colorama in c:\\users\\shubdosh\\appdata\\local\\programs\\python\\python312\\lib\\site-packages (from tqdm->google-generativeai) (0.4.6)\n",
      "Requirement already satisfied: grpcio<2.0dev,>=1.33.2 in c:\\users\\shubdosh\\appdata\\local\\programs\\python\\python312\\lib\\site-packages (from google-api-core[grpc]!=2.0.*,!=2.1.*,!=2.10.*,!=2.2.*,!=2.3.*,!=2.4.*,!=2.5.*,!=2.6.*,!=2.7.*,!=2.8.*,!=2.9.*,<3.0.0dev,>=1.34.1->google-ai-generativelanguage==0.6.10->google-generativeai) (1.68.0)\n",
      "Requirement already satisfied: grpcio-status<2.0.dev0,>=1.33.2 in c:\\users\\shubdosh\\appdata\\local\\programs\\python\\python312\\lib\\site-packages (from google-api-core[grpc]!=2.0.*,!=2.1.*,!=2.10.*,!=2.2.*,!=2.3.*,!=2.4.*,!=2.5.*,!=2.6.*,!=2.7.*,!=2.8.*,!=2.9.*,<3.0.0dev,>=1.34.1->google-ai-generativelanguage==0.6.10->google-generativeai) (1.68.0)\n",
      "Requirement already satisfied: pyparsing!=3.0.0,!=3.0.1,!=3.0.2,!=3.0.3,<4,>=2.4.2 in c:\\users\\shubdosh\\appdata\\local\\programs\\python\\python312\\lib\\site-packages (from httplib2<1.dev0,>=0.19.0->google-api-python-client->google-generativeai) (3.1.4)\n",
      "Requirement already satisfied: pyasn1<0.7.0,>=0.4.6 in c:\\users\\shubdosh\\appdata\\local\\programs\\python\\python312\\lib\\site-packages (from pyasn1-modules>=0.2.1->google-auth>=2.15.0->google-generativeai) (0.6.0)\n",
      "Requirement already satisfied: charset-normalizer<4,>=2 in c:\\users\\shubdosh\\appdata\\local\\programs\\python\\python312\\lib\\site-packages (from requests<3.0.0.dev0,>=2.18.0->google-api-core->google-generativeai) (3.3.2)\n",
      "Requirement already satisfied: idna<4,>=2.5 in c:\\users\\shubdosh\\appdata\\local\\programs\\python\\python312\\lib\\site-packages (from requests<3.0.0.dev0,>=2.18.0->google-api-core->google-generativeai) (3.8)\n",
      "Requirement already satisfied: urllib3<3,>=1.21.1 in c:\\users\\shubdosh\\appdata\\local\\programs\\python\\python312\\lib\\site-packages (from requests<3.0.0.dev0,>=2.18.0->google-api-core->google-generativeai) (2.2.2)\n",
      "Requirement already satisfied: certifi>=2017.4.17 in c:\\users\\shubdosh\\appdata\\local\\programs\\python\\python312\\lib\\site-packages (from requests<3.0.0.dev0,>=2.18.0->google-api-core->google-generativeai) (2024.8.30)\n"
     ]
    },
    {
     "name": "stderr",
     "output_type": "stream",
     "text": [
      "\n",
      "[notice] A new release of pip is available: 24.2 -> 24.3.1\n",
      "[notice] To update, run: python.exe -m pip install --upgrade pip\n"
     ]
    },
    {
     "name": "stdout",
     "output_type": "stream",
     "text": [
      "Requirement already satisfied: vaderSentiment in c:\\users\\shubdosh\\appdata\\local\\programs\\python\\python312\\lib\\site-packages (3.3.2)\n",
      "Requirement already satisfied: requests in c:\\users\\shubdosh\\appdata\\local\\programs\\python\\python312\\lib\\site-packages (from vaderSentiment) (2.32.3)\n",
      "Requirement already satisfied: charset-normalizer<4,>=2 in c:\\users\\shubdosh\\appdata\\local\\programs\\python\\python312\\lib\\site-packages (from requests->vaderSentiment) (3.3.2)\n",
      "Requirement already satisfied: idna<4,>=2.5 in c:\\users\\shubdosh\\appdata\\local\\programs\\python\\python312\\lib\\site-packages (from requests->vaderSentiment) (3.8)\n",
      "Requirement already satisfied: urllib3<3,>=1.21.1 in c:\\users\\shubdosh\\appdata\\local\\programs\\python\\python312\\lib\\site-packages (from requests->vaderSentiment) (2.2.2)\n",
      "Requirement already satisfied: certifi>=2017.4.17 in c:\\users\\shubdosh\\appdata\\local\\programs\\python\\python312\\lib\\site-packages (from requests->vaderSentiment) (2024.8.30)\n"
     ]
    },
    {
     "name": "stderr",
     "output_type": "stream",
     "text": [
      "\n",
      "[notice] A new release of pip is available: 24.2 -> 24.3.1\n",
      "[notice] To update, run: python.exe -m pip install --upgrade pip\n"
     ]
    },
    {
     "name": "stdout",
     "output_type": "stream",
     "text": [
      "Requirement already satisfied: gradio in c:\\users\\shubdosh\\appdata\\local\\programs\\python\\python312\\lib\\site-packages (5.8.0)\n",
      "Requirement already satisfied: aiofiles<24.0,>=22.0 in c:\\users\\shubdosh\\appdata\\local\\programs\\python\\python312\\lib\\site-packages (from gradio) (23.2.1)\n",
      "Requirement already satisfied: anyio<5.0,>=3.0 in c:\\users\\shubdosh\\appdata\\local\\programs\\python\\python312\\lib\\site-packages (from gradio) (4.6.2.post1)\n",
      "Requirement already satisfied: fastapi<1.0,>=0.115.2 in c:\\users\\shubdosh\\appdata\\local\\programs\\python\\python312\\lib\\site-packages (from gradio) (0.115.6)\n",
      "Requirement already satisfied: ffmpy in c:\\users\\shubdosh\\appdata\\local\\programs\\python\\python312\\lib\\site-packages (from gradio) (0.4.0)\n",
      "Requirement already satisfied: gradio-client==1.5.1 in c:\\users\\shubdosh\\appdata\\local\\programs\\python\\python312\\lib\\site-packages (from gradio) (1.5.1)\n",
      "Requirement already satisfied: httpx>=0.24.1 in c:\\users\\shubdosh\\appdata\\local\\programs\\python\\python312\\lib\\site-packages (from gradio) (0.27.2)\n",
      "Requirement already satisfied: huggingface-hub>=0.25.1 in c:\\users\\shubdosh\\appdata\\local\\programs\\python\\python312\\lib\\site-packages (from gradio) (0.25.2)\n",
      "Requirement already satisfied: jinja2<4.0 in c:\\users\\shubdosh\\appdata\\local\\programs\\python\\python312\\lib\\site-packages (from gradio) (3.1.4)\n",
      "Requirement already satisfied: markupsafe~=2.0 in c:\\users\\shubdosh\\appdata\\local\\programs\\python\\python312\\lib\\site-packages (from gradio) (2.1.5)\n",
      "Requirement already satisfied: numpy<3.0,>=1.0 in c:\\users\\shubdosh\\appdata\\local\\programs\\python\\python312\\lib\\site-packages (from gradio) (1.26.4)\n",
      "Requirement already satisfied: orjson~=3.0 in c:\\users\\shubdosh\\appdata\\local\\programs\\python\\python312\\lib\\site-packages (from gradio) (3.10.11)\n",
      "Requirement already satisfied: packaging in c:\\users\\shubdosh\\appdata\\local\\programs\\python\\python312\\lib\\site-packages (from gradio) (24.1)\n",
      "Requirement already satisfied: pandas<3.0,>=1.0 in c:\\users\\shubdosh\\appdata\\local\\programs\\python\\python312\\lib\\site-packages (from gradio) (2.2.2)\n",
      "Requirement already satisfied: pillow<12.0,>=8.0 in c:\\users\\shubdosh\\appdata\\local\\programs\\python\\python312\\lib\\site-packages (from gradio) (10.4.0)\n",
      "Requirement already satisfied: pydantic>=2.0 in c:\\users\\shubdosh\\appdata\\local\\programs\\python\\python312\\lib\\site-packages (from gradio) (2.9.2)\n",
      "Requirement already satisfied: pydub in c:\\users\\shubdosh\\appdata\\local\\programs\\python\\python312\\lib\\site-packages (from gradio) (0.25.1)\n",
      "Requirement already satisfied: python-multipart>=0.0.18 in c:\\users\\shubdosh\\appdata\\local\\programs\\python\\python312\\lib\\site-packages (from gradio) (0.0.19)\n",
      "Requirement already satisfied: pyyaml<7.0,>=5.0 in c:\\users\\shubdosh\\appdata\\local\\programs\\python\\python312\\lib\\site-packages (from gradio) (6.0.2)\n",
      "Requirement already satisfied: ruff>=0.2.2 in c:\\users\\shubdosh\\appdata\\local\\programs\\python\\python312\\lib\\site-packages (from gradio) (0.8.2)\n",
      "Requirement already satisfied: safehttpx<0.2.0,>=0.1.6 in c:\\users\\shubdosh\\appdata\\local\\programs\\python\\python312\\lib\\site-packages (from gradio) (0.1.6)\n",
      "Requirement already satisfied: semantic-version~=2.0 in c:\\users\\shubdosh\\appdata\\local\\programs\\python\\python312\\lib\\site-packages (from gradio) (2.10.0)\n",
      "Requirement already satisfied: starlette<1.0,>=0.40.0 in c:\\users\\shubdosh\\appdata\\local\\programs\\python\\python312\\lib\\site-packages (from gradio) (0.41.3)\n",
      "Requirement already satisfied: tomlkit<0.14.0,>=0.12.0 in c:\\users\\shubdosh\\appdata\\local\\programs\\python\\python312\\lib\\site-packages (from gradio) (0.13.2)\n",
      "Requirement already satisfied: typer<1.0,>=0.12 in c:\\users\\shubdosh\\appdata\\local\\programs\\python\\python312\\lib\\site-packages (from gradio) (0.15.1)\n",
      "Requirement already satisfied: typing-extensions~=4.0 in c:\\users\\shubdosh\\appdata\\local\\programs\\python\\python312\\lib\\site-packages (from gradio) (4.12.2)\n",
      "Requirement already satisfied: uvicorn>=0.14.0 in c:\\users\\shubdosh\\appdata\\local\\programs\\python\\python312\\lib\\site-packages (from gradio) (0.32.1)\n",
      "Requirement already satisfied: fsspec in c:\\users\\shubdosh\\appdata\\local\\programs\\python\\python312\\lib\\site-packages (from gradio-client==1.5.1->gradio) (2024.9.0)\n",
      "Requirement already satisfied: websockets<15.0,>=10.0 in c:\\users\\shubdosh\\appdata\\local\\programs\\python\\python312\\lib\\site-packages (from gradio-client==1.5.1->gradio) (14.1)\n",
      "Requirement already satisfied: idna>=2.8 in c:\\users\\shubdosh\\appdata\\local\\programs\\python\\python312\\lib\\site-packages (from anyio<5.0,>=3.0->gradio) (3.8)\n",
      "Requirement already satisfied: sniffio>=1.1 in c:\\users\\shubdosh\\appdata\\local\\programs\\python\\python312\\lib\\site-packages (from anyio<5.0,>=3.0->gradio) (1.3.1)\n",
      "Requirement already satisfied: certifi in c:\\users\\shubdosh\\appdata\\local\\programs\\python\\python312\\lib\\site-packages (from httpx>=0.24.1->gradio) (2024.8.30)\n",
      "Requirement already satisfied: httpcore==1.* in c:\\users\\shubdosh\\appdata\\local\\programs\\python\\python312\\lib\\site-packages (from httpx>=0.24.1->gradio) (1.0.7)\n",
      "Requirement already satisfied: h11<0.15,>=0.13 in c:\\users\\shubdosh\\appdata\\local\\programs\\python\\python312\\lib\\site-packages (from httpcore==1.*->httpx>=0.24.1->gradio) (0.14.0)\n",
      "Requirement already satisfied: filelock in c:\\users\\shubdosh\\appdata\\local\\programs\\python\\python312\\lib\\site-packages (from huggingface-hub>=0.25.1->gradio) (3.16.1)\n",
      "Requirement already satisfied: requests in c:\\users\\shubdosh\\appdata\\local\\programs\\python\\python312\\lib\\site-packages (from huggingface-hub>=0.25.1->gradio) (2.32.3)\n",
      "Requirement already satisfied: tqdm>=4.42.1 in c:\\users\\shubdosh\\appdata\\local\\programs\\python\\python312\\lib\\site-packages (from huggingface-hub>=0.25.1->gradio) (4.66.5)\n",
      "Requirement already satisfied: python-dateutil>=2.8.2 in c:\\users\\shubdosh\\appdata\\local\\programs\\python\\python312\\lib\\site-packages (from pandas<3.0,>=1.0->gradio) (2.9.0.post0)\n",
      "Requirement already satisfied: pytz>=2020.1 in c:\\users\\shubdosh\\appdata\\local\\programs\\python\\python312\\lib\\site-packages (from pandas<3.0,>=1.0->gradio) (2024.1)\n",
      "Requirement already satisfied: tzdata>=2022.7 in c:\\users\\shubdosh\\appdata\\local\\programs\\python\\python312\\lib\\site-packages (from pandas<3.0,>=1.0->gradio) (2024.1)\n",
      "Requirement already satisfied: annotated-types>=0.6.0 in c:\\users\\shubdosh\\appdata\\local\\programs\\python\\python312\\lib\\site-packages (from pydantic>=2.0->gradio) (0.7.0)\n",
      "Requirement already satisfied: pydantic-core==2.23.4 in c:\\users\\shubdosh\\appdata\\local\\programs\\python\\python312\\lib\\site-packages (from pydantic>=2.0->gradio) (2.23.4)\n",
      "Requirement already satisfied: click>=8.0.0 in c:\\users\\shubdosh\\appdata\\local\\programs\\python\\python312\\lib\\site-packages (from typer<1.0,>=0.12->gradio) (8.1.7)\n",
      "Requirement already satisfied: shellingham>=1.3.0 in c:\\users\\shubdosh\\appdata\\local\\programs\\python\\python312\\lib\\site-packages (from typer<1.0,>=0.12->gradio) (1.5.4)\n",
      "Requirement already satisfied: rich>=10.11.0 in c:\\users\\shubdosh\\appdata\\local\\programs\\python\\python312\\lib\\site-packages (from typer<1.0,>=0.12->gradio) (13.9.4)\n",
      "Requirement already satisfied: colorama in c:\\users\\shubdosh\\appdata\\local\\programs\\python\\python312\\lib\\site-packages (from click>=8.0.0->typer<1.0,>=0.12->gradio) (0.4.6)\n",
      "Requirement already satisfied: six>=1.5 in c:\\users\\shubdosh\\appdata\\local\\programs\\python\\python312\\lib\\site-packages (from python-dateutil>=2.8.2->pandas<3.0,>=1.0->gradio) (1.16.0)\n",
      "Requirement already satisfied: markdown-it-py>=2.2.0 in c:\\users\\shubdosh\\appdata\\local\\programs\\python\\python312\\lib\\site-packages (from rich>=10.11.0->typer<1.0,>=0.12->gradio) (3.0.0)\n",
      "Requirement already satisfied: pygments<3.0.0,>=2.13.0 in c:\\users\\shubdosh\\appdata\\roaming\\python\\python312\\site-packages (from rich>=10.11.0->typer<1.0,>=0.12->gradio) (2.18.0)\n",
      "Requirement already satisfied: charset-normalizer<4,>=2 in c:\\users\\shubdosh\\appdata\\local\\programs\\python\\python312\\lib\\site-packages (from requests->huggingface-hub>=0.25.1->gradio) (3.3.2)\n",
      "Requirement already satisfied: urllib3<3,>=1.21.1 in c:\\users\\shubdosh\\appdata\\local\\programs\\python\\python312\\lib\\site-packages (from requests->huggingface-hub>=0.25.1->gradio) (2.2.2)\n",
      "Requirement already satisfied: mdurl~=0.1 in c:\\users\\shubdosh\\appdata\\local\\programs\\python\\python312\\lib\\site-packages (from markdown-it-py>=2.2.0->rich>=10.11.0->typer<1.0,>=0.12->gradio) (0.1.2)\n"
     ]
    },
    {
     "name": "stderr",
     "output_type": "stream",
     "text": [
      "\n",
      "[notice] A new release of pip is available: 24.2 -> 24.3.1\n",
      "[notice] To update, run: python.exe -m pip install --upgrade pip\n"
     ]
    }
   ],
   "source": [
    "!pip install --upgrade langchain\n",
    "!pip install langchain-community\n",
    "!pip install langchain==0.2.17 langchain-community==0.2.19 langsmith==0.1.112\n",
    "!pip install google-generativeai\n",
    "!pip install vaderSentiment\n",
    "!pip install gradio"
   ]
  },
  {
   "cell_type": "code",
   "execution_count": 2,
   "metadata": {
    "executionInfo": {
     "elapsed": 4,
     "status": "ok",
     "timestamp": 1721783558470,
     "user": {
      "displayName": "Kanish Mohan",
      "userId": "03360479849440540993"
     },
     "user_tz": 240
    },
    "id": "bH9X5lpJ9haE"
   },
   "outputs": [
    {
     "name": "stderr",
     "output_type": "stream",
     "text": [
      "c:\\Users\\shubdosh\\AppData\\Local\\Programs\\Python\\Python312\\Lib\\site-packages\\tqdm\\auto.py:21: TqdmWarning: IProgress not found. Please update jupyter and ipywidgets. See https://ipywidgets.readthedocs.io/en/stable/user_install.html\n",
      "  from .autonotebook import tqdm as notebook_tqdm\n"
     ]
    },
    {
     "name": "stdout",
     "output_type": "stream",
     "text": [
      "All imports successful!\n"
     ]
    }
   ],
   "source": [
    "# Test imports\n",
    "import pandas as pd\n",
    "from matplotlib import pyplot as plt\n",
    "from vaderSentiment.vaderSentiment import SentimentIntensityAnalyzer\n",
    "from sklearn.model_selection import train_test_split\n",
    "\n",
    "from sklearn.pipeline import Pipeline\n",
    "from sklearn.feature_extraction.text import TfidfVectorizer\n",
    "from sklearn.svm import LinearSVC\n",
    "from sklearn.metrics import confusion_matrix, classification_report, accuracy_score\n",
    "\n",
    "from dotenv import load_dotenv\n",
    "import os\n",
    "from langchain.chat_models import ChatOpenAI\n",
    "from langchain.prompts import PromptTemplate, ChatPromptTemplate\n",
    "from langchain.chains import LLMChain\n",
    "\n",
    "import gradio as gr\n",
    "\n",
    "# If no errors, proceed to run the complete script.\n",
    "print(\"All imports successful!\")\n",
    "\n"
   ]
  },
  {
   "cell_type": "markdown",
   "metadata": {},
   "source": [
    "- Imports the `pandas` library for handling data.\n",
    "- Specifies the absolute path to the CSV file.\n",
    "- Attempts to load the dataset using `pd.read_csv` with:\n",
    "  - `index_col=0`: Sets the first column as the index.\n",
    "  - `encoding=\"ISO-8859-1\"`: Handles non-UTF-8 characters in the file.\n",
    "- Catches and handles two types of exceptions:\n",
    "  1. `FileNotFoundError`: Indicates the file does not exist at the specified path.\n",
    "  2. Generic exceptions: Captures any other errors (e.g., encoding issues).\n",
    "- If successful, displays a random sample of 5 rows from the dataset using `df.sample(5)`.\n"
   ]
  },
  {
   "cell_type": "code",
   "execution_count": 3,
   "metadata": {},
   "outputs": [
    {
     "name": "stdout",
     "output_type": "stream",
     "text": [
      "                                               statement       status\n",
      "4514                                                sore       Normal\n",
      "6127   Gosh, I got debuffed, - magic resistance + -ar...       Normal\n",
      "96901  I can tell you're thinking about the possibili...  Hopefulness\n",
      "39571  so unfortunately a the title say i have bad re...   Depression\n",
      "15761  i risked too much, and now i feel I am losing ...     Suicidal\n"
     ]
    }
   ],
   "source": [
    "import pandas as pd\n",
    "\n",
    "# Absolute path to the dataset file\n",
    "file_path = r\"Combined Data.csv\"\n",
    "\n",
    "# Load the dataset with proper encoding\n",
    "try:\n",
    "    # Attempt reading the file with different encodings\n",
    "    df = pd.read_csv(file_path, index_col=0, encoding=\"ISO-8859-1\")  # Use ISO-8859-1 encoding for Windows files\n",
    "    # Display a sample of the dataset\n",
    "    print(df.sample(5))  # Display 5 random rows as a sample\n",
    "except FileNotFoundError:\n",
    "    print(f\"Error: File not found at {file_path}. Please check the file path.\")\n",
    "except Exception as e:\n",
    "    print(f\"An error occurred: {e}\")\n",
    "\n"
   ]
  },
  {
   "cell_type": "markdown",
   "metadata": {
    "id": "HpUSyf9d9haJ"
   },
   "source": [
    "## Data Cleanup and Preparation"
   ]
  },
  {
   "cell_type": "code",
   "execution_count": 4,
   "metadata": {
    "executionInfo": {
     "elapsed": 6,
     "status": "ok",
     "timestamp": 1721783559371,
     "user": {
      "displayName": "Kanish Mohan",
      "userId": "03360479849440540993"
     },
     "user_tz": 240
    },
    "id": "bhNwChvA9haJ"
   },
   "outputs": [
    {
     "name": "stdout",
     "output_type": "stream",
     "text": [
      "<class 'pandas.core.frame.DataFrame'>\n",
      "Index: 100004 entries, 0 to 100000\n",
      "Data columns (total 2 columns):\n",
      " #   Column     Non-Null Count   Dtype \n",
      "---  ------     --------------   ----- \n",
      " 0   statement  99639 non-null   object\n",
      " 1   status     100000 non-null  object\n",
      "dtypes: object(2)\n",
      "memory usage: 2.3+ MB\n"
     ]
    }
   ],
   "source": [
    "# Check for missing values. \n",
    "df.info()"
   ]
  },
  {
   "cell_type": "code",
   "execution_count": 5,
   "metadata": {},
   "outputs": [
    {
     "data": {
      "text/plain": [
       "statement\n",
       "True     99639\n",
       "False      365\n",
       "Name: count, dtype: int64"
      ]
     },
     "execution_count": 5,
     "metadata": {},
     "output_type": "execute_result"
    }
   ],
   "source": [
    "# Null values in the statement column\n",
    "df['statement'].notnull().value_counts()"
   ]
  },
  {
   "cell_type": "code",
   "execution_count": 6,
   "metadata": {},
   "outputs": [
    {
     "name": "stdout",
     "output_type": "stream",
     "text": [
      "<class 'pandas.core.frame.DataFrame'>\n",
      "Index: 99638 entries, 0 to 100000\n",
      "Data columns (total 2 columns):\n",
      " #   Column     Non-Null Count  Dtype \n",
      "---  ------     --------------  ----- \n",
      " 0   statement  99638 non-null  object\n",
      " 1   status     99638 non-null  object\n",
      "dtypes: object(2)\n",
      "memory usage: 2.3+ MB\n"
     ]
    }
   ],
   "source": [
    "# Drop null values\n",
    "df = df.dropna()\n",
    "df.info()"
   ]
  },
  {
   "cell_type": "code",
   "execution_count": 7,
   "metadata": {},
   "outputs": [
    {
     "data": {
      "text/plain": [
       "status\n",
       "Normal                  16343\n",
       "Depression              15404\n",
       "Stress                  12067\n",
       "Suicidal                10651\n",
       "Calm                     9405\n",
       "Hopefulness              9405\n",
       "Excitement               9399\n",
       "Confusion                9270\n",
       "Anxiety                  3840\n",
       "Bipolar                  2777\n",
       "Personality disorder     1077\n",
       "Name: count, dtype: int64"
      ]
     },
     "execution_count": 7,
     "metadata": {},
     "output_type": "execute_result"
    }
   ],
   "source": [
    "# Get the number of different statuses in the status column:\n",
    "status_count = df['status'].value_counts()\n",
    "status_count"
   ]
  },
  {
   "cell_type": "markdown",
   "metadata": {},
   "source": [
    "- Imports `matplotlib.pyplot` for creating the chart.\n",
    "- Sets the figure size using `plt.figure(figsize=(10, 6))` for better visibility.\n",
    "- Plots a bar chart using `status_count.plot()`:\n",
    "  - Sets `kind='bar'` for a bar chart.\n",
    "  - Customizes the color (`skyblue`) and chart title.\n",
    "- Enhances chart aesthetics:\n",
    "  - Adds a bold and larger title (`set_title`).\n",
    "  - Customizes X and Y-axis labels with font size and padding.\n",
    "  - Rotates X-axis labels to 45° for better alignment.\n",
    "- Adds gridlines on the Y-axis for improved readability.\n",
    "- Displays the count as data labels above each bar.\n",
    "- Uses `plt.tight_layout()` to prevent overlapping elements.\n",
    "- Finally, displays the chart with `plt.show()`.\n"
   ]
  },
  {
   "cell_type": "code",
   "execution_count": 8,
   "metadata": {},
   "outputs": [
    {
     "data": {
      "image/png": "[encoded data removed]",
      "text/plain": [
       "<Figure size 1000x600 with 1 Axes>"
      ]
     },
     "metadata": {},
     "output_type": "display_data"
    }
   ],
   "source": [
    "import matplotlib.pyplot as plt\n",
    "\n",
    "# Create the bar chart\n",
    "plt.figure(figsize=(10, 6))  # Set the figure size for better readability\n",
    "status_chart = status_count.plot(\n",
    "    kind='bar',\n",
    "    color='skyblue',  # Use a more visually appealing color\n",
    "    title='Status Count'\n",
    ")\n",
    "\n",
    "# Customize the chart\n",
    "status_chart.set_title('Status Count by Category', fontsize=16, fontweight='bold')  # Update title styling\n",
    "status_chart.set_xlabel('Status', fontsize=12, labelpad=10)  # Customize X-axis label\n",
    "status_chart.set_ylabel('# of Entries', fontsize=12, labelpad=10)  # Customize Y-axis label\n",
    "status_chart.set_xticklabels(status_count.index, rotation=45, ha='right', fontsize=10)  # Rotate and align X-axis labels\n",
    "\n",
    "# Add gridlines for readability\n",
    "plt.grid(axis='y', linestyle='--', alpha=0.7)\n",
    "\n",
    "# Add data labels to the bars\n",
    "for index, value in enumerate(status_count):\n",
    "    plt.text(index, value + 0.5, str(value), ha='center', fontsize=10)\n",
    "\n",
    "# Display the chart\n",
    "plt.tight_layout()  # Adjust layout to prevent clipping\n",
    "plt.show()\n"
   ]
  },
  {
   "cell_type": "code",
   "execution_count": 9,
   "metadata": {},
   "outputs": [
    {
     "data": {
      "image/png": "[encoded data removed]",
      "text/plain": [
       "<Figure size 800x800 with 1 Axes>"
      ]
     },
     "metadata": {},
     "output_type": "display_data"
    }
   ],
   "source": [
    "# Create a pie chart\n",
    "plt.figure(figsize=(8, 8))\n",
    "status_count.plot.pie(\n",
    "    autopct='%1.1f%%',\n",
    "    startangle=90,\n",
    "    colors=plt.cm.Paired.colors,\n",
    "    title=\"Status Distribution\"\n",
    ")\n",
    "plt.ylabel(\"\")  # Remove the default y-label\n",
    "plt.tight_layout()\n",
    "plt.show()\n"
   ]
  },
  {
   "cell_type": "markdown",
   "metadata": {},
   "source": [
    "- Checks if the column `statement` exists in the DataFrame.\n",
    "- Converts the `statement` column to a Python list, dropping any `NaN` values.\n",
    "- Provides feedback on the number of entries successfully converted to the list.\n",
    "- Writes all sentences to a text file (`statements_output.txt`) with numbered lines for clarity.\n",
    "- Uses a `try-except` block to handle potential errors:\n",
    "  - Raises a `KeyError` if the `statement` column is missing.\n",
    "  - Catches and displays other exceptions.\n",
    "- Avoids exceeding Jupyter's output limit by saving sentences to a file instead of printing them.\n"
   ]
  },
  {
   "cell_type": "code",
   "execution_count": 10,
   "metadata": {},
   "outputs": [
    {
     "name": "stdout",
     "output_type": "stream",
     "text": [
      "Successfully converted 'statement' column to a list with 99638 entries.\n",
      "\n",
      "All statements have been saved to statements_output.txt.\n"
     ]
    }
   ],
   "source": [
    "# Safely convert the 'statement' column to a list and save all sentences to a file\n",
    "try:\n",
    "    if 'statement' in df.columns:\n",
    "        # Convert the column to a list\n",
    "        statements = df['statement'].dropna().to_list()  # Drop NaN values\n",
    "        print(f\"Successfully converted 'statement' column to a list with {len(statements)} entries.\\n\")\n",
    "        \n",
    "        # Save all sentences to a text file\n",
    "        output_file = \"statements_output.txt\"\n",
    "        with open(output_file, \"w\", encoding=\"utf-8\") as file:\n",
    "            for idx, sentence in enumerate(statements, start=1):\n",
    "                file.write(f\"{idx}. {sentence}\\n\")\n",
    "        print(f\"All statements have been saved to {output_file}.\")\n",
    "    else:\n",
    "        raise KeyError(\"The column 'statement' does not exist in the DataFrame.\")\n",
    "except Exception as e:\n",
    "    print(f\"An error occurred: {e}\")\n"
   ]
  },
  {
   "cell_type": "markdown",
   "metadata": {},
   "source": [
    "- **Import Sentiment Analyzer**:\n",
    "  - Imports `SentimentIntensityAnalyzer` from `vaderSentiment` for sentiment analysis.\n",
    "\n",
    "- **Initialize Analyzer**:\n",
    "  - Creates an instance of `SentimentIntensityAnalyzer`.\n",
    "\n",
    "- **Define Sentiment Analysis Function**:\n",
    "  - Function `analyze_statement(statement)`:\n",
    "    - Calculates sentiment scores using `analyzer.polarity_scores()`.\n",
    "    - Extracts the `compound` score.\n",
    "    - Classifies sentiment:\n",
    "      - \"Positive\" if `compound` ≥ 0.05.\n",
    "      - \"Negative\" if `compound` ≤ -0.05.\n",
    "      - \"Neutral\" otherwise.\n",
    "    - Returns sentiment label and compound score.\n",
    "\n",
    "- **Analyze All Statements**:\n",
    "  - Iterates through the list `statements` to analyze each statement.\n",
    "  - Stores the results as a list of tuples (`sentiment, compound_score`).\n",
    "\n",
    "- **Extract Sentiment and Scores**:\n",
    "  - Uses `zip(*results)` to separate sentiments and scores into two lists:\n",
    "    - `sentiment`: List of sentiment labels (\"Positive\", \"Negative\", \"Neutral\").\n",
    "    - `score`: List of compound sentiment scores.\n"
   ]
  },
  {
   "cell_type": "code",
   "execution_count": 11,
   "metadata": {},
   "outputs": [],
   "source": [
    "from vaderSentiment.vaderSentiment import SentimentIntensityAnalyzer\n",
    "\n",
    "# Initialize the Sentiment Intensity Analyzer\n",
    "analyzer = SentimentIntensityAnalyzer()\n",
    "\n",
    "# Function to analyze sentiment of a single statement\n",
    "def analyze_statement(statement):\n",
    "    statement_sentiment = analyzer.polarity_scores(statement)\n",
    "    compound_score = statement_sentiment['compound']\n",
    "    \n",
    "    # Determine sentiment\n",
    "    if compound_score >= 0.05:\n",
    "        return \"Positive\", compound_score\n",
    "    elif compound_score <= -0.05:\n",
    "        return \"Negative\", compound_score\n",
    "    else:\n",
    "        return \"Neutral\", compound_score\n",
    "\n",
    "# Analyze sentiments for all statements\n",
    "results = [analyze_statement(statement) for statement in statements]\n",
    "\n",
    "# Extract sentiment and score into separate lists\n",
    "sentiment, score = zip(*results)  # Unpack the tuple list into two separate lists\n",
    "\n"
   ]
  },
  {
   "cell_type": "code",
   "execution_count": 12,
   "metadata": {},
   "outputs": [
    {
     "data": {
      "text/html": [
       "<div>\n",
       "<style scoped>\n",
       "    .dataframe tbody tr th:only-of-type {\n",
       "        vertical-align: middle;\n",
       "    }\n",
       "\n",
       "    .dataframe tbody tr th {\n",
       "        vertical-align: top;\n",
       "    }\n",
       "\n",
       "    .dataframe thead th {\n",
       "        text-align: right;\n",
       "    }\n",
       "</style>\n",
       "<table border=\"1\" class=\"dataframe\">\n",
       "  <thead>\n",
       "    <tr style=\"text-align: right;\">\n",
       "      <th></th>\n",
       "      <th>statement</th>\n",
       "      <th>status</th>\n",
       "      <th>sentiment</th>\n",
       "      <th>score</th>\n",
       "    </tr>\n",
       "  </thead>\n",
       "  <tbody>\n",
       "    <tr>\n",
       "      <th>0</th>\n",
       "      <td>oh my gosh</td>\n",
       "      <td>Anxiety</td>\n",
       "      <td>Neutral</td>\n",
       "      <td>0.0000</td>\n",
       "    </tr>\n",
       "    <tr>\n",
       "      <th>1</th>\n",
       "      <td>trouble sleeping, confused mind, restless hear...</td>\n",
       "      <td>Anxiety</td>\n",
       "      <td>Negative</td>\n",
       "      <td>-0.2263</td>\n",
       "    </tr>\n",
       "    <tr>\n",
       "      <th>2</th>\n",
       "      <td>All wrong, back off dear, forward doubt. Stay ...</td>\n",
       "      <td>Anxiety</td>\n",
       "      <td>Negative</td>\n",
       "      <td>-0.7351</td>\n",
       "    </tr>\n",
       "    <tr>\n",
       "      <th>3</th>\n",
       "      <td>I've shifted my focus to something else but I'...</td>\n",
       "      <td>Anxiety</td>\n",
       "      <td>Negative</td>\n",
       "      <td>-0.4215</td>\n",
       "    </tr>\n",
       "    <tr>\n",
       "      <th>4</th>\n",
       "      <td>I'm restless and restless, it's been a month n...</td>\n",
       "      <td>Anxiety</td>\n",
       "      <td>Negative</td>\n",
       "      <td>-0.4939</td>\n",
       "    </tr>\n",
       "  </tbody>\n",
       "</table>\n",
       "</div>"
      ],
      "text/plain": [
       "                                           statement   status sentiment  \\\n",
       "0                                         oh my gosh  Anxiety   Neutral   \n",
       "1  trouble sleeping, confused mind, restless hear...  Anxiety  Negative   \n",
       "2  All wrong, back off dear, forward doubt. Stay ...  Anxiety  Negative   \n",
       "3  I've shifted my focus to something else but I'...  Anxiety  Negative   \n",
       "4  I'm restless and restless, it's been a month n...  Anxiety  Negative   \n",
       "\n",
       "    score  \n",
       "0  0.0000  \n",
       "1 -0.2263  \n",
       "2 -0.7351  \n",
       "3 -0.4215  \n",
       "4 -0.4939  "
      ]
     },
     "execution_count": 12,
     "metadata": {},
     "output_type": "execute_result"
    }
   ],
   "source": [
    "# Creating sentiment and score columns.\n",
    "df['sentiment'] = sentiment\n",
    "df['score'] = score\n",
    "df.head()"
   ]
  },
  {
   "cell_type": "code",
   "execution_count": 13,
   "metadata": {},
   "outputs": [
    {
     "data": {
      "text/html": [
       "<div>\n",
       "<style scoped>\n",
       "    .dataframe tbody tr th:only-of-type {\n",
       "        vertical-align: middle;\n",
       "    }\n",
       "\n",
       "    .dataframe tbody tr th {\n",
       "        vertical-align: top;\n",
       "    }\n",
       "\n",
       "    .dataframe thead th {\n",
       "        text-align: right;\n",
       "    }\n",
       "</style>\n",
       "<table border=\"1\" class=\"dataframe\">\n",
       "  <thead>\n",
       "    <tr style=\"text-align: right;\">\n",
       "      <th></th>\n",
       "      <th>statement</th>\n",
       "      <th>status</th>\n",
       "      <th>sentiment</th>\n",
       "      <th>score</th>\n",
       "    </tr>\n",
       "  </thead>\n",
       "  <tbody>\n",
       "    <tr>\n",
       "      <th>47536</th>\n",
       "      <td>Morning lows what too do? Im currently in ther...</td>\n",
       "      <td>Depression</td>\n",
       "      <td>Positive</td>\n",
       "      <td>0.7506</td>\n",
       "    </tr>\n",
       "    <tr>\n",
       "      <th>60762</th>\n",
       "      <td>It must be hard to figure things out when noth...</td>\n",
       "      <td>Confusion</td>\n",
       "      <td>Negative</td>\n",
       "      <td>-0.3818</td>\n",
       "    </tr>\n",
       "    <tr>\n",
       "      <th>28545</th>\n",
       "      <td>I have complex ptsd due to past romantic relat...</td>\n",
       "      <td>Stress</td>\n",
       "      <td>Negative</td>\n",
       "      <td>-0.8979</td>\n",
       "    </tr>\n",
       "    <tr>\n",
       "      <th>86688</th>\n",
       "      <td>Youre probably asking yourself, 'How does thi...</td>\n",
       "      <td>Confusion</td>\n",
       "      <td>Positive</td>\n",
       "      <td>0.1280</td>\n",
       "    </tr>\n",
       "    <tr>\n",
       "      <th>86325</th>\n",
       "      <td>You seem to be holding on to a quiet belief th...</td>\n",
       "      <td>Hopefulness</td>\n",
       "      <td>Positive</td>\n",
       "      <td>0.6597</td>\n",
       "    </tr>\n",
       "    <tr>\n",
       "      <th>58627</th>\n",
       "      <td>Youre probably asking yourself, 'How does thi...</td>\n",
       "      <td>Confusion</td>\n",
       "      <td>Positive</td>\n",
       "      <td>0.1280</td>\n",
       "    </tr>\n",
       "    <tr>\n",
       "      <th>23349</th>\n",
       "      <td>I have a life that some envy yet I am suicidal...</td>\n",
       "      <td>Depression</td>\n",
       "      <td>Negative</td>\n",
       "      <td>-0.6539</td>\n",
       "    </tr>\n",
       "    <tr>\n",
       "      <th>91908</th>\n",
       "      <td>You're caught in a whirlwind of thoughts, aren...</td>\n",
       "      <td>Confusion</td>\n",
       "      <td>Positive</td>\n",
       "      <td>0.3612</td>\n",
       "    </tr>\n",
       "    <tr>\n",
       "      <th>36449</th>\n",
       "      <td>@Pete_Brown That's In-and-Out</td>\n",
       "      <td>Normal</td>\n",
       "      <td>Neutral</td>\n",
       "      <td>0.0000</td>\n",
       "    </tr>\n",
       "    <tr>\n",
       "      <th>34877</th>\n",
       "      <td>Trouble getting deep breath? Iâve had troubl...</td>\n",
       "      <td>Anxiety</td>\n",
       "      <td>Positive</td>\n",
       "      <td>0.9437</td>\n",
       "    </tr>\n",
       "  </tbody>\n",
       "</table>\n",
       "</div>"
      ],
      "text/plain": [
       "                                               statement       status  \\\n",
       "47536  Morning lows what too do? Im currently in ther...   Depression   \n",
       "60762  It must be hard to figure things out when noth...    Confusion   \n",
       "28545  I have complex ptsd due to past romantic relat...       Stress   \n",
       "86688  Youre probably asking yourself, 'How does thi...    Confusion   \n",
       "86325  You seem to be holding on to a quiet belief th...  Hopefulness   \n",
       "58627  Youre probably asking yourself, 'How does thi...    Confusion   \n",
       "23349  I have a life that some envy yet I am suicidal...   Depression   \n",
       "91908  You're caught in a whirlwind of thoughts, aren...    Confusion   \n",
       "36449                      @Pete_Brown That's In-and-Out       Normal   \n",
       "34877  Trouble getting deep breath? Iâve had troubl...      Anxiety   \n",
       "\n",
       "      sentiment   score  \n",
       "47536  Positive  0.7506  \n",
       "60762  Negative -0.3818  \n",
       "28545  Negative -0.8979  \n",
       "86688  Positive  0.1280  \n",
       "86325  Positive  0.6597  \n",
       "58627  Positive  0.1280  \n",
       "23349  Negative -0.6539  \n",
       "91908  Positive  0.3612  \n",
       "36449   Neutral  0.0000  \n",
       "34877  Positive  0.9437  "
      ]
     },
     "execution_count": 13,
     "metadata": {},
     "output_type": "execute_result"
    }
   ],
   "source": [
    "# Displaying a sample of the new DataFrame.\n",
    "df.sample(10)"
   ]
  },
  {
   "cell_type": "code",
   "execution_count": 14,
   "metadata": {},
   "outputs": [
    {
     "data": {
      "text/plain": [
       "sentiment\n",
       "Positive    58009\n",
       "Negative    35114\n",
       "Neutral      6515\n",
       "Name: count, dtype: int64"
      ]
     },
     "execution_count": 14,
     "metadata": {},
     "output_type": "execute_result"
    }
   ],
   "source": [
    "# Get the number of different results in the sentiment column:\n",
    "sentiment_count = df['sentiment'].value_counts()\n",
    "sentiment_count"
   ]
  },
  {
   "cell_type": "code",
   "execution_count": 15,
   "metadata": {},
   "outputs": [
    {
     "data": {
      "image/png": "[encoded data removed]",
      "text/plain": [
       "<Figure size 1000x600 with 1 Axes>"
      ]
     },
     "metadata": {},
     "output_type": "display_data"
    }
   ],
   "source": [
    "import matplotlib.pyplot as plt\n",
    "\n",
    "# Create the bar chart with improved aesthetics\n",
    "plt.figure(figsize=(10, 6))  # Set figure size for better readability\n",
    "sentiment_chart = sentiment_count.plot(\n",
    "    kind='bar',\n",
    "    color='skyblue',  # Use a visually appealing color\n",
    "    title='Sentiment Count'\n",
    ")\n",
    "\n",
    "# Customize the chart\n",
    "sentiment_chart.set_title('Sentiment Count by Category', fontsize=16, fontweight='bold')  # Update title styling\n",
    "sentiment_chart.set_xlabel('Sentiment', fontsize=12, labelpad=10)  # Customize X-axis label\n",
    "sentiment_chart.set_ylabel('# of Entries', fontsize=12, labelpad=10)  # Customize Y-axis label\n",
    "sentiment_chart.set_xticklabels(sentiment_count.index, rotation=45, ha='right', fontsize=10)  # Rotate and align X-axis labels\n",
    "\n",
    "# Add gridlines for better readability\n",
    "plt.grid(axis='y', linestyle='--', alpha=0.7)\n",
    "\n",
    "# Add data labels to each bar\n",
    "for index, value in enumerate(sentiment_count):\n",
    "    plt.text(index, value + 0.5, str(value), ha='center', fontsize=10)\n",
    "\n",
    "# Display the chart\n",
    "plt.tight_layout()  # Adjust layout to prevent clipping\n",
    "plt.show()\n"
   ]
  },
  {
   "cell_type": "code",
   "execution_count": 16,
   "metadata": {},
   "outputs": [],
   "source": [
    "# Set the features variable.\n",
    "X = df['statement']\n",
    "# Set the target variables.\n",
    "y_status = df['status']\n",
    "y_sentiment = df['sentiment']"
   ]
  },
  {
   "cell_type": "code",
   "execution_count": 17,
   "metadata": {},
   "outputs": [],
   "source": [
    "# Split data into training and testing for status\n",
    "X_status_train, X_status_test, y_status_train, y_stauts_test = train_test_split(X, y_status, test_size=0.25, random_state=1)"
   ]
  },
  {
   "cell_type": "code",
   "execution_count": 18,
   "metadata": {},
   "outputs": [],
   "source": [
    "# Split data into training and testing for sentiment\n",
    "X_sentiment_train, X_sentiment_test, y_sentiment_train, y_sentiment_test = train_test_split(X, y_sentiment, test_size=0.30, random_state=1)"
   ]
  },
  {
   "cell_type": "markdown",
   "metadata": {
    "id": "R-5gfm-n9haK"
   },
   "source": [
    "## ML Model"
   ]
  },
  {
   "cell_type": "markdown",
   "metadata": {},
   "source": [
    "Title: y_status_train"
   ]
  },
  {
   "cell_type": "code",
   "execution_count": 19,
   "metadata": {},
   "outputs": [],
   "source": [
    "import pandas as pd\n",
    "from sklearn.feature_extraction.text import TfidfVectorizer\n",
    "from sklearn.svm import LinearSVC\n",
    "from sklearn.pipeline import Pipeline\n",
    "from sklearn.metrics import confusion_matrix, classification_report, accuracy_score\n",
    "\n",
    "def train_and_evaluate_model(X_train, y_train, X_test, y_test, task_name=\"Model\", dual_param='auto'):\n",
    "    \"\"\"\n",
    "    Trains and evaluates a Tfidf + LinearSVC model using the given training and testing data.\n",
    "\n",
    "    Parameters:\n",
    "    - X_train: Training features\n",
    "    - y_train: Training labels\n",
    "    - X_test: Testing features\n",
    "    - y_test: Testing labels\n",
    "    - task_name (str): A descriptive name for the task (e.g., \"Status Classification\" or \"Sentiment Analysis\")\n",
    "    - dual_param (str/bool): Value for the 'dual' parameter of the LinearSVC model (default is 'auto')\n",
    "\n",
    "    Returns:\n",
    "    - results (dict): A dictionary containing the model, predictions, confusion matrix, accuracy, and classification report\n",
    "    \"\"\"\n",
    "    \n",
    "    # Step 1: Create a Pipeline with TfidfVectorizer and LinearSVC\n",
    "    pipeline = Pipeline([\n",
    "        ('tfidf', TfidfVectorizer(stop_words=None)),\n",
    "        ('classifier', LinearSVC(dual=dual_param))\n",
    "    ])\n",
    "    \n",
    "    # Step 2: Train the model\n",
    "    pipeline.fit(X_train, y_train)\n",
    "    print(f\"{task_name} model training complete.\\n\")\n",
    "    \n",
    "    # Step 3: Generate predictions\n",
    "    predictions = pipeline.predict(X_test)\n",
    "    print(f\"{task_name} Predictions:\\n\", predictions)\n",
    "    \n",
    "    # Step 4: Create a DataFrame to visualize predictions vs. actuals\n",
    "    test_results = pd.DataFrame({'X_test': X_test, 'Predicted_y': predictions, 'Actual_y': y_test})\n",
    "    print(f\"\\n{task_name} Test Results:\\n\", test_results)\n",
    "    \n",
    "    # Step 5: Calculate accuracy on training and testing data\n",
    "    training_accuracy = pipeline.score(X_train, y_train)\n",
    "    testing_accuracy = pipeline.score(X_test, y_test)\n",
    "    print(f\"\\n{task_name} Training Accuracy: {training_accuracy:.4f}\")\n",
    "    print(f\"{task_name} Testing Accuracy: {testing_accuracy:.4f}\")\n",
    "    \n",
    "    # Step 6: Generate confusion matrix and classification report\n",
    "    confusion_mat = confusion_matrix(y_test, predictions)\n",
    "    print(f\"\\n{task_name} Confusion Matrix:\\n\", confusion_mat)\n",
    "    \n",
    "    classification_rep = classification_report(y_test, predictions)\n",
    "    print(f\"\\n{task_name} Classification Report:\\n\", classification_rep)\n",
    "    \n",
    "    # Step 7: Calculate overall accuracy\n",
    "    overall_accuracy = accuracy_score(y_test, predictions)\n",
    "    print(f\"\\n{task_name} Overall Accuracy: {overall_accuracy:.4f}\")\n",
    "    \n",
    "    # Return all results as a dictionary for further analysis\n",
    "    results = {\n",
    "        'pipeline': pipeline,\n",
    "        'predictions': predictions,\n",
    "        'test_results_df': test_results,\n",
    "        'training_accuracy': training_accuracy,\n",
    "        'testing_accuracy': testing_accuracy,\n",
    "        'confusion_matrix': confusion_mat,\n",
    "        'classification_report': classification_rep,\n",
    "        'overall_accuracy': overall_accuracy\n",
    "    }\n",
    "    \n",
    "    \n",
    "    \n",
    "    return results\n",
    "\n",
    "\n",
    "def train_and_evaluate_model1(X_train, y_train, X_test, y_test, pipeline_name='default', dual_param='auto', stop_words=None):\n",
    "    \"\"\"\n",
    "    Train and evaluate a classification model using a TF-IDF Vectorizer and LinearSVC.\n",
    "    \n",
    "    Parameters:\n",
    "    - X_train: Training features (list or DataFrame)\n",
    "    - y_train: Training labels (list or Series)\n",
    "    - X_test: Test features (list or DataFrame)\n",
    "    - y_test: Test labels (list or Series)\n",
    "    - stop_words: Stop words to use in the TfidfVectorizer ('english', None, or custom list of stop words)\n",
    "    - dual_param: Parameter for the LinearSVC dual option\n",
    "    - pipeline_name: A label to distinguish between different pipelines for tracking/logging purposes\n",
    "    \n",
    "    Returns:\n",
    "    - model: The trained pipeline model\n",
    "    - predictions: Predictions on the test set\n",
    "    - metrics: A dictionary containing training accuracy, testing accuracy, and overall accuracy\n",
    "    \"\"\"\n",
    "    print(f\"\\n--- Starting Training and Evaluation for {pipeline_name} ---\\n\")\n",
    "    # Step 1: Create the pipeline with stop words parameter\n",
    "    pipeline = Pipeline([\n",
    "        ('tfidf', TfidfVectorizer(stop_words=stop_words)),\n",
    "        ('classifier', LinearSVC(dual=dual_param))\n",
    "    ])\n",
    "    \n",
    "    # Step 2: Train the pipeline on the training data\n",
    "    pipeline.fit(X_train, y_train)\n",
    "    \n",
    "    # Step 3: Make predictions on the test data\n",
    "    predictions = pipeline.predict(X_test)\n",
    "    print(f\"{pipeline_name} - Predictions:\\n\", predictions)\n",
    "    \n",
    "    # Step 4: Show the test data, predicted labels, and actual labels\n",
    "    test_results = pd.DataFrame({'X_test': X_test, 'Predicted_y': predictions, 'Actual_y': y_test})\n",
    "    print(f\"{pipeline_name} - Test Results:\\n\", test_results)\n",
    "    \n",
    "    # Step 5: Calculate training and testing accuracy\n",
    "    training_accuracy = pipeline.score(X_train, y_train)\n",
    "    testing_accuracy = pipeline.score(X_test, y_test)\n",
    "    print(f\"{pipeline_name} - Training Accuracy:\", training_accuracy)\n",
    "    print(f\"{pipeline_name} - Testing Accuracy:\", testing_accuracy)\n",
    "    \n",
    "    # Step 6: Create and print the confusion matrix\n",
    "    confusion_mat = confusion_matrix(y_test, predictions)\n",
    "    print(f\"{pipeline_name} - Confusion Matrix:\\n\", confusion_mat)\n",
    "    \n",
    "    # Step 7: Print the classification report\n",
    "    class_report = classification_report(y_test, predictions)\n",
    "    print(f\"{pipeline_name} - Classification Report:\\n\", class_report)\n",
    "    \n",
    "    # Step 8: Calculate and print the overall accuracy\n",
    "    overall_accuracy = accuracy_score(y_test, predictions)\n",
    "    print(f\"{pipeline_name} - Overall Accuracy:\", overall_accuracy)\n",
    "    \n",
    "    # Step 9: Store evaluation metrics in a dictionary\n",
    "    metrics = {\n",
    "        'training_accuracy': training_accuracy,\n",
    "        'testing_accuracy': testing_accuracy,\n",
    "        'overall_accuracy': overall_accuracy,\n",
    "        'confusion_matrix': confusion_mat,\n",
    "        'classification_report': class_report\n",
    "    }\n",
    "    return pipeline, predictions, metrics"
   ]
  },
  {
   "cell_type": "code",
   "execution_count": 20,
   "metadata": {
    "executionInfo": {
     "elapsed": 6,
     "status": "ok",
     "timestamp": 1721783559372,
     "user": {
      "displayName": "Kanish Mohan",
      "userId": "03360479849440540993"
     },
     "user_tz": 240
    },
    "id": "wiFAyohp9haK"
   },
   "outputs": [
    {
     "name": "stdout",
     "output_type": "stream",
     "text": [
      "\n",
      "--- Starting Training and Evaluation for Status Classification ---\n",
      "\n",
      "Status Classification - Predictions:\n",
      " ['Depression' 'Normal' 'Suicidal' ... 'Excitement' 'Normal' 'Excitement']\n",
      "Status Classification - Test Results:\n",
      "                                                   X_test  Predicted_y  \\\n",
      "39818  i cant bear not being beatiful im a man not gi...   Depression   \n",
      "27819  The gist of the comments received was the K is...       Normal   \n",
      "22262  I can keep my hygiene up and cook and clean th...     Suicidal   \n",
      "5965                    wow. what is this thing going on       Normal   \n",
      "62331  You look so serene, as if the world has paused...         Calm   \n",
      "...                                                  ...          ...   \n",
      "13017  So my wifes leaving me I will not give details...   Depression   \n",
      "91164  I can tell you're thinking about the possibili...  Hopefulness   \n",
      "58422  You can feel the pulse of excitement, cant yo...   Excitement   \n",
      "43593  i think my email domain is being blocked by ak...       Normal   \n",
      "60335  You can feel the pulse of excitement, cant yo...   Excitement   \n",
      "\n",
      "          Actual_y  \n",
      "39818   Depression  \n",
      "27819       Normal  \n",
      "22262     Suicidal  \n",
      "5965        Normal  \n",
      "62331         Calm  \n",
      "...            ...  \n",
      "13017   Depression  \n",
      "91164  Hopefulness  \n",
      "58422   Excitement  \n",
      "43593       Normal  \n",
      "60335   Excitement  \n",
      "\n",
      "[24910 rows x 3 columns]\n",
      "Status Classification - Training Accuracy: 0.963199871534097\n",
      "Status Classification - Testing Accuracy: 0.886069851465275\n",
      "Status Classification - Confusion Matrix:\n",
      " [[ 760   10    0    0   72    0    0   62    3   34    3]\n",
      " [  19  499    0    0   83    0    0   27    3   17   10]\n",
      " [   0    0 2307    0    0    0    0    0    0    0    0]\n",
      " [   0    0    0 2338    0    0    0    0    0    0    0]\n",
      " [  45   36    0    0 2869    0    0  147    8   29  735]\n",
      " [   0    0    0    0    0 2338    0    0    0    0    0]\n",
      " [   0    0    0    0    0    0 2329    0    0    0    0]\n",
      " [  21    6    0    0   87    0    0 3888    2   38   49]\n",
      " [  13    5    0    0   65    0    0   25  158    8    3]\n",
      " [  78   15    0    0  117    0    0  112    8 2678   25]\n",
      " [   7    4    0    0  676    0    0  122    2    7 1908]]\n",
      "Status Classification - Classification Report:\n",
      "                       precision    recall  f1-score   support\n",
      "\n",
      "             Anxiety       0.81      0.81      0.81       944\n",
      "             Bipolar       0.87      0.76      0.81       658\n",
      "                Calm       1.00      1.00      1.00      2307\n",
      "           Confusion       1.00      1.00      1.00      2338\n",
      "          Depression       0.72      0.74      0.73      3869\n",
      "          Excitement       1.00      1.00      1.00      2338\n",
      "         Hopefulness       1.00      1.00      1.00      2329\n",
      "              Normal       0.89      0.95      0.92      4091\n",
      "Personality disorder       0.86      0.57      0.69       277\n",
      "              Stress       0.95      0.88      0.92      3033\n",
      "            Suicidal       0.70      0.70      0.70      2726\n",
      "\n",
      "            accuracy                           0.89     24910\n",
      "           macro avg       0.89      0.86      0.87     24910\n",
      "        weighted avg       0.89      0.89      0.89     24910\n",
      "\n",
      "Status Classification - Overall Accuracy: 0.886069851465275\n"
     ]
    }
   ],
   "source": [
    "# 1\n",
    "# Status classification data\n",
    "status_results = train_and_evaluate_model1(\n",
    "    X_train=X_status_train, \n",
    "    y_train=y_status_train, \n",
    "    X_test=X_status_test, \n",
    "    y_test=y_stauts_test, \n",
    "    pipeline_name=\"Status Classification\", \n",
    "    dual_param=True  # Default for SVC\n",
    ")"
   ]
  },
  {
   "cell_type": "markdown",
   "metadata": {},
   "source": [
    "Title: y_sentiment_train"
   ]
  },
  {
   "cell_type": "code",
   "execution_count": 21,
   "metadata": {},
   "outputs": [
    {
     "name": "stdout",
     "output_type": "stream",
     "text": [
      "\n",
      "--- Starting Training and Evaluation for Sentiment Analysis ---\n",
      "\n"
     ]
    },
    {
     "name": "stderr",
     "output_type": "stream",
     "text": [
      "c:\\Users\\shubdosh\\AppData\\Local\\Programs\\Python\\Python312\\Lib\\site-packages\\sklearn\\svm\\_base.py:1235: ConvergenceWarning: Liblinear failed to converge, increase the number of iterations.\n",
      "  warnings.warn(\n"
     ]
    },
    {
     "name": "stdout",
     "output_type": "stream",
     "text": [
      "Sentiment Analysis - Predictions:\n",
      " ['Positive' 'Positive' 'Positive' ... 'Negative' 'Negative' 'Positive']\n",
      "Sentiment Analysis - Test Results:\n",
      "                                                   X_test Predicted_y  Actual_y\n",
      "39818  i cant bear not being beatiful im a man not gi...    Positive  Positive\n",
      "27819  The gist of the comments received was the K is...    Positive  Positive\n",
      "22262  I can keep my hygiene up and cook and clean th...    Positive  Positive\n",
      "5965                    wow. what is this thing going on    Positive  Positive\n",
      "62331  You look so serene, as if the world has paused...    Positive  Positive\n",
      "...                                                  ...         ...       ...\n",
      "32828             they could even crack their head open.    Positive   Neutral\n",
      "29109  And I woke up. It took 3 nurses and some sort ...    Positive  Positive\n",
      "13752  My mom told me to take the trash out but I am ...    Negative  Negative\n",
      "35469  I can see and feel my (groin) inguinal lymph n...    Negative  Positive\n",
      "68902  You seem to be holding on to a quiet belief th...    Positive  Positive\n",
      "\n",
      "[29892 rows x 3 columns]\n",
      "Sentiment Analysis - Training Accuracy: 0.9710090901270324\n",
      "Sentiment Analysis - Testing Accuracy: 0.904890940719925\n",
      "Sentiment Analysis - Confusion Matrix:\n",
      " [[ 9630   195   815]\n",
      " [  255  1396   274]\n",
      " [ 1088   216 16023]]\n",
      "Sentiment Analysis - Classification Report:\n",
      "               precision    recall  f1-score   support\n",
      "\n",
      "    Negative       0.88      0.91      0.89     10640\n",
      "     Neutral       0.77      0.73      0.75      1925\n",
      "    Positive       0.94      0.92      0.93     17327\n",
      "\n",
      "    accuracy                           0.90     29892\n",
      "   macro avg       0.86      0.85      0.86     29892\n",
      "weighted avg       0.90      0.90      0.90     29892\n",
      "\n",
      "Sentiment Analysis - Overall Accuracy: 0.904890940719925\n"
     ]
    }
   ],
   "source": [
    "# 2\n",
    "# Sentiment analysis data\n",
    "sentiment_results = train_and_evaluate_model1(\n",
    "    X_train=X_sentiment_train, \n",
    "    y_train=y_sentiment_train, \n",
    "    X_test=X_sentiment_test, \n",
    "    y_test=y_sentiment_test, \n",
    "    pipeline_name=\"Sentiment Analysis\", \n",
    "    dual_param='auto'  # Custom dual parameter\n",
    ")"
   ]
  },
  {
   "cell_type": "markdown",
   "metadata": {},
   "source": [
    "Stopwords"
   ]
  },
  {
   "cell_type": "code",
   "execution_count": 22,
   "metadata": {},
   "outputs": [
    {
     "name": "stdout",
     "output_type": "stream",
     "text": [
      "\n",
      "--- Starting Training and Evaluation for Status Classification with Stop Words ---\n",
      "\n"
     ]
    },
    {
     "name": "stderr",
     "output_type": "stream",
     "text": [
      "c:\\Users\\shubdosh\\AppData\\Local\\Programs\\Python\\Python312\\Lib\\site-packages\\sklearn\\svm\\_base.py:1235: ConvergenceWarning: Liblinear failed to converge, increase the number of iterations.\n",
      "  warnings.warn(\n"
     ]
    },
    {
     "name": "stdout",
     "output_type": "stream",
     "text": [
      "Status Classification with Stop Words - Predictions:\n",
      " ['Depression' 'Normal' 'Normal' ... 'Excitement' 'Normal' 'Excitement']\n",
      "Status Classification with Stop Words - Test Results:\n",
      "                                                   X_test  Predicted_y  \\\n",
      "39818  i cant bear not being beatiful im a man not gi...   Depression   \n",
      "27819  The gist of the comments received was the K is...       Normal   \n",
      "22262  I can keep my hygiene up and cook and clean th...       Normal   \n",
      "5965                    wow. what is this thing going on       Normal   \n",
      "62331  You look so serene, as if the world has paused...         Calm   \n",
      "...                                                  ...          ...   \n",
      "13017  So my wifes leaving me I will not give details...   Depression   \n",
      "91164  I can tell you're thinking about the possibili...  Hopefulness   \n",
      "58422  You can feel the pulse of excitement, cant yo...   Excitement   \n",
      "43593  i think my email domain is being blocked by ak...       Normal   \n",
      "60335  You can feel the pulse of excitement, cant yo...   Excitement   \n",
      "\n",
      "          Actual_y  \n",
      "39818   Depression  \n",
      "27819       Normal  \n",
      "22262     Suicidal  \n",
      "5965        Normal  \n",
      "62331         Calm  \n",
      "...            ...  \n",
      "13017   Depression  \n",
      "91164  Hopefulness  \n",
      "58422   Excitement  \n",
      "43593       Normal  \n",
      "60335   Excitement  \n",
      "\n",
      "[24910 rows x 3 columns]\n",
      "Status Classification with Stop Words - Training Accuracy: 0.9655684616208114\n",
      "Status Classification with Stop Words - Testing Accuracy: 0.87671617824167\n",
      "Status Classification with Stop Words - Confusion Matrix:\n",
      " [[ 747   13    0    0   83    0    0   65    1   30    5]\n",
      " [  17  496    0    0   90    0    0   30    3   11   11]\n",
      " [   0    0 2307    0    0    0    0    0    0    0    0]\n",
      " [   0    0    0 2338    0    0    0    0    0    0    0]\n",
      " [  57   33    0    0 2801    0    0  182    9   37  750]\n",
      " [   0    0    0    0    0 2338    0    0    0    0    0]\n",
      " [   0    0    0    0    0    0 2329    0    0    0    0]\n",
      " [  17    6    0    0  117    0    0 3844    1   40   66]\n",
      " [   7    3    0    0   69    0    0   22  155   12    9]\n",
      " [  70   17    0    0  126    0    0  115    8 2663   34]\n",
      " [  12    7    0    0  688    0    0  185    1   12 1821]]\n",
      "Status Classification with Stop Words - Classification Report:\n",
      "                       precision    recall  f1-score   support\n",
      "\n",
      "             Anxiety       0.81      0.79      0.80       944\n",
      "             Bipolar       0.86      0.75      0.80       658\n",
      "                Calm       1.00      1.00      1.00      2307\n",
      "           Confusion       1.00      1.00      1.00      2338\n",
      "          Depression       0.70      0.72      0.71      3869\n",
      "          Excitement       1.00      1.00      1.00      2338\n",
      "         Hopefulness       1.00      1.00      1.00      2329\n",
      "              Normal       0.87      0.94      0.90      4091\n",
      "Personality disorder       0.87      0.56      0.68       277\n",
      "              Stress       0.95      0.88      0.91      3033\n",
      "            Suicidal       0.68      0.67      0.67      2726\n",
      "\n",
      "            accuracy                           0.88     24910\n",
      "           macro avg       0.88      0.85      0.86     24910\n",
      "        weighted avg       0.88      0.88      0.88     24910\n",
      "\n",
      "Status Classification with Stop Words - Overall Accuracy: 0.87671617824167\n"
     ]
    }
   ],
   "source": [
    "# 3\n",
    "# Call the function with your training and testing data\n",
    "status_results_stopwords = train_and_evaluate_model1(\n",
    "    X_train=X_status_train, \n",
    "    y_train=y_status_train, \n",
    "    X_test=X_status_test, \n",
    "    y_test=y_stauts_test,\n",
    "    pipeline_name=\"Status Classification with Stop Words\",\n",
    "    dual_param='auto',\n",
    "    stop_words='english'\n",
    ")\n"
   ]
  },
  {
   "cell_type": "code",
   "execution_count": 23,
   "metadata": {},
   "outputs": [
    {
     "name": "stdout",
     "output_type": "stream",
     "text": [
      "\n",
      "--- Starting Training and Evaluation for Sentiment Analysis Stop_Words ---\n",
      "\n"
     ]
    },
    {
     "name": "stderr",
     "output_type": "stream",
     "text": [
      "c:\\Users\\shubdosh\\AppData\\Local\\Programs\\Python\\Python312\\Lib\\site-packages\\sklearn\\svm\\_base.py:1235: ConvergenceWarning: Liblinear failed to converge, increase the number of iterations.\n",
      "  warnings.warn(\n"
     ]
    },
    {
     "name": "stdout",
     "output_type": "stream",
     "text": [
      "Sentiment Analysis Stop_Words - Predictions:\n",
      " ['Positive' 'Positive' 'Positive' ... 'Negative' 'Negative' 'Positive']\n",
      "Sentiment Analysis Stop_Words - Test Results:\n",
      "                                                   X_test Predicted_y  Actual_y\n",
      "39818  i cant bear not being beatiful im a man not gi...    Positive  Positive\n",
      "27819  The gist of the comments received was the K is...    Positive  Positive\n",
      "22262  I can keep my hygiene up and cook and clean th...    Positive  Positive\n",
      "5965                    wow. what is this thing going on    Positive  Positive\n",
      "62331  You look so serene, as if the world has paused...    Positive  Positive\n",
      "...                                                  ...         ...       ...\n",
      "32828             they could even crack their head open.    Positive   Neutral\n",
      "29109  And I woke up. It took 3 nurses and some sort ...     Neutral  Positive\n",
      "13752  My mom told me to take the trash out but I am ...    Negative  Negative\n",
      "35469  I can see and feel my (groin) inguinal lymph n...    Negative  Positive\n",
      "68902  You seem to be holding on to a quiet belief th...    Positive  Positive\n",
      "\n",
      "[29892 rows x 3 columns]\n",
      "Sentiment Analysis Stop_Words - Training Accuracy: 0.9718120035557595\n",
      "Sentiment Analysis Stop_Words - Testing Accuracy: 0.8968620366653285\n",
      "Sentiment Analysis Stop_Words - Confusion Matrix:\n",
      " [[ 9511   244   885]\n",
      " [  274  1345   306]\n",
      " [ 1116   258 15953]]\n",
      "Sentiment Analysis Stop_Words - Classification Report:\n",
      "               precision    recall  f1-score   support\n",
      "\n",
      "    Negative       0.87      0.89      0.88     10640\n",
      "     Neutral       0.73      0.70      0.71      1925\n",
      "    Positive       0.93      0.92      0.93     17327\n",
      "\n",
      "    accuracy                           0.90     29892\n",
      "   macro avg       0.84      0.84      0.84     29892\n",
      "weighted avg       0.90      0.90      0.90     29892\n",
      "\n",
      "Sentiment Analysis Stop_Words - Overall Accuracy: 0.8968620366653285\n"
     ]
    }
   ],
   "source": [
    "#  4 sentiment analysis with stop words\n",
    "sentiment_results_stopwords = train_and_evaluate_model1(\n",
    "    X_train=X_sentiment_train, \n",
    "    y_train=y_sentiment_train, \n",
    "    X_test=X_sentiment_test, \n",
    "    y_test=y_sentiment_test, \n",
    "    pipeline_name=\"Sentiment Analysis Stop_Words\", \n",
    "    dual_param='auto',\n",
    "    stop_words='english'\n",
    ")"
   ]
  },
  {
   "cell_type": "markdown",
   "metadata": {
    "id": "cSTS3GTx9haK"
   },
   "source": [
    "Google Gemini model usage for enhanced responses"
   ]
  },
  {
   "cell_type": "code",
   "execution_count": 24,
   "metadata": {},
   "outputs": [],
   "source": [
    "from dotenv import load_dotenv\n",
    "import os\n",
    "import google.generativeai as genai\n",
    "\n",
    "# Load environment variables from .env file\n",
    "load_dotenv()\n",
    "\n",
    "# Store the API key in a variable\n",
    "GEMINI_API_KEY = os.getenv(\"GEMINI_API_KEY\")\n",
    "\n",
    "# Initialize the model with the API key\n",
    "genai.configure(api_key=GEMINI_API_KEY)\n",
    "\n",
    "# Configure the model with generation parameters\n",
    "model = genai.GenerativeModel(\"gemini-1.5-flash\",\n",
    "    generation_config={\n",
    "        \"max_output_tokens\": 150,\n",
    "        \"temperature\": 0.3\n",
    "    }\n",
    ")\n"
   ]
  },
  {
   "cell_type": "code",
   "execution_count": 25,
   "metadata": {},
   "outputs": [],
   "source": [
    "# Function to predict mental health status and sentiment\n",
    "def predict_status_and_sentiment(statement, status_pipeline, sentiment_pipeline):\n",
    "    status = status_pipeline[0].predict([statement])\n",
    "    sentiment = sentiment_pipeline[0].predict([statement])\n",
    "    return status, sentiment"
   ]
  },
  {
   "cell_type": "code",
   "execution_count": 26,
   "metadata": {},
   "outputs": [],
   "source": [
    "def mental_health_chatbot(statement, chat_history, status_pipeline=status_results, sentiment_pipeline=sentiment_results):\n",
    "    # Predict status and sentiment\n",
    "    status, sentiment = predict_status_and_sentiment(statement, status_pipeline, sentiment_pipeline)\n",
    "\n",
    "    # Generate response prefix\n",
    "    response_prefix = f'The mental health status of the user is/has:{status}\\n The sentiment of the statement is:{sentiment}\\n'\n",
    "\n",
    "    # Prompt template for generating response\n",
    "    prompt_template = f\"\"\"\n",
    "    You are a clinical psychologist specializing in mental health conversations.\n",
    "    Answer user questions and concerns empathetically and factually.\n",
    "    - If the user asks irrelevant questions, remind them you're here for mental health support.\n",
    "    - Reference past inputs to provide continuity in conversation.\n",
    "    - If unsure about a question, acknowledge it and recommend professional help.\n",
    "\n",
    "    Conversation so far:\n",
    "    {chat_history}\n",
    "    status Prediction:\n",
    "    {status}\n",
    "    sentiment Prediction:\n",
    "    {sentiment}\n",
    "\n",
    "    User's Question: {statement}\n",
    "\n",
    "    Your Response:\n",
    "    \"\"\".format(chat_history=\"\\n\".join(chat_history), statement=statement)\n",
    "\n",
    "    model_response = model.generate_content(prompt_template)\n",
    "\n",
    "    # Mock response generation (replace with actual logic or model)\n",
    "    response = response_prefix + '\\n' + model_response.text\n",
    "\n",
    "    # Update chat history\n",
    "    chat_history.append(f\"User: {statement}\")\n",
    "    chat_history.append(f\"Bot: {response}\")\n",
    "\n",
    "    return response, chat_history\n"
   ]
  },
  {
   "cell_type": "code",
   "execution_count": 28,
   "metadata": {},
   "outputs": [
    {
     "name": "stdout",
     "output_type": "stream",
     "text": [
      "Welcome to the Mental Health Chatbot!\n",
      "Type 'exit' to end the conversation.\n",
      "\n",
      "The mental health status of the user is/has:['Anxiety']\n",
      " The sentiment of the statement is:['Negative']\n",
      "\n",
      "I hear you saying you feel restless. That sounds really uncomfortable.  Restlessness can be a symptom of many things, including anxiety, which is something I've noted as a potential area of concern based on my initial assessment.  Can you tell me a little more about what's making you feel restless?  For example, is it a physical restlessness, like you can't sit still, or is it more of a mental restlessness, like your mind is racing?  Knowing more about the nature of your restlessness will help me understand what might be going on.\n",
      "\n",
      "The mental health status of the user is/has:['Normal']\n",
      " The sentiment of the statement is:['Negative']\n",
      "\n",
      "I understand you're feeling uneasy and having trouble sleeping, possibly due to homesickness and lack of exercise.  That sounds really difficult.  You mentioned feeling restless before, and this feeling of unease seems connected.  It makes sense that homesickness and lack of exercise could contribute to these feelings.  Homesickness can trigger anxiety and sadness, leading to difficulty sleeping, and a lack of exercise can impact both your physical and mental well-being, potentially exacerbating restlessness and unease.\n",
      "\n",
      "To help me understand better, could you tell me more about the homesickness?  What specifically are you missing from home?  And regarding the exercise, how long has it been since you've been regularly active?  Knowing more about these factors\n",
      "The mental health status of the user is/has:['Normal']\n",
      " The sentiment of the statement is:['Positive']\n",
      "\n",
      "The mental health status of the user is/has:['Normal']\n",
      "The sentiment of the statement is:['Positive']\n",
      "\n",
      "That's wonderful to hear that you experience happiness from family moments!  It's great that you're recognizing the positive impact of those connections.  Your desire to focus more is also a positive sign – it shows you're actively seeking ways to improve your well-being.\n",
      "\n",
      "However,  you previously mentioned restlessness, unease, and sleep difficulties possibly related to homesickness and lack of exercise.  While enjoying family moments is positive, focusing more on something else might be a way of avoiding addressing those underlying issues.  It's important to explore those feelings to ensure your overall well-being.\n",
      "\n",
      "Could\n",
      "The mental health status of the user is/has:['Normal']\n",
      " The sentiment of the statement is:['Positive']\n",
      "\n",
      "The mental health status of the user is/has:['Normal']\n",
      "The sentiment of the statement is:['Positive']\n",
      "\n",
      "That's a very positive and proactive step!  It's excellent that you recognize the need to establish a regular exercise and work routine.  As we discussed earlier,  lack of exercise can contribute to feelings of restlessness and unease, and a structured routine can often help manage anxiety and improve sleep.\n",
      "\n",
      "To help you build this routine effectively, let's break it down.  Could you tell me a bit more about what kind of exercise you're thinking of incorporating?  And what aspects of a work routine are you hoping to establish?  Knowing your goals will help us create a plan that's realistic\n",
      "Bot: Thank you for chatting. Take care!\n"
     ]
    }
   ],
   "source": [
    "def chatbot_interface():\n",
    "    print(\"Welcome to the Mental Health Chatbot!\")\n",
    "    print(\"Type 'exit' to end the conversation.\\n\")\n",
    "\n",
    "    chat_history = []  # Persistent conversation history\n",
    "\n",
    "    while True:\n",
    "        # Get user input\n",
    "        statement = input(\"You: \")\n",
    "\n",
    "        # Exit condition\n",
    "        if statement.lower() == \"exit\":\n",
    "            print(\"Bot: Thank you for chatting. Take care!\")\n",
    "            break\n",
    "\n",
    "        # Get chatbot response\n",
    "        response, chat_history = mental_health_chatbot(statement, chat_history)\n",
    "\n",
    "        # Display chatbot response\n",
    "        print(response)\n",
    "\n",
    "# Run the chatbot\n",
    "chatbot_interface()"
   ]
  },
  {
   "cell_type": "markdown",
   "metadata": {
    "id": "OQiYoYdO9haL"
   },
   "source": [
    "## Gradio App"
   ]
  },
  {
   "cell_type": "markdown",
   "metadata": {
    "id": "ydFJqwsuAyRV"
   },
   "source": [
    "This section of code involves a user interface where users input statements about their mental state. The code then processes these inputs and returns corresponding mental health statuses using two display textbox components. The purpose is to predict and provide insights into the user's mental state based on their statements.\n",
    "\n",
    "The data source consolidates information from various Kaggle datasets centered on different facets of mental health. It draws from diverse platforms such as social media, Reddit, Twitter, and more. Each entry is labeled with a specific mental health status, making it an invaluable resource for in-depth analyses, insights into mental health trends, patterns, and predictive modeling.\n",
    "https://www.kaggle.com/datasets/suchintikasarkar/sentiment-analysis-for-mental-health"
   ]
  },
  {
   "cell_type": "markdown",
   "metadata": {},
   "source": [
    "Example Statements\n",
    "* \"I have been feeling very anxious and stressed lately.\"\n",
    "* \"I am experiencing severe depression and can't find motivation.\"\n",
    "* \"I feel normal and haven't had any mental health issues recently.\""
   ]
  },
  {
   "cell_type": "markdown",
   "metadata": {},
   "source": [
    "Chatbot Responses\n",
    "* \"Yes, it sounds like the user may benefit from some assistance in managing their anxiety and stress. I would suggest seeking support from a mental health professional, such as a therapist or psychologist, who can help develop coping strategies and provide support. Additionally, practicing relaxation techniques, mindfulness, and engaging in regular physical activity can also help reduce anxiety and stress levels. It's important to take care of your mental health, so don't hesitate to reach out for help.\"\n",
    "* \"Yes, it sounds like the user is experiencing severe depression and a lack of motivation. I would suggest seeking help from a mental health professional, such as a therapist or psychiatrist, to discuss treatment options such as therapy, medication, or other interventions that may help improve their symptoms. It's important to reach out for support and not try to handle these feelings alone.\"\n",
    "* \"It's great to hear that you feel normal and haven't had any recent mental health issues. However, since you mentioned having bipolar disorder, it's important to continue monitoring your mental health and seeking support when needed. I would suggest staying in touch with your mental health provider, practicing self-care, and reaching out for help if you notice any changes in your mood or behavior. It's always good to have a support system in place.\""
   ]
  },
  {
   "cell_type": "code",
   "execution_count": null,
   "metadata": {},
   "outputs": [],
   "source": [
    "# Define a function to generate responses using Gradio\n",
    "# Gradio interface for better UI snippets and presentation\n",
    "def mental_health_chatbot_gemini(statement):\n",
    "    prompt_template = \"\"\"\n",
    "    You are a clinical psychologist. Answer only questions that would be relevant to mental health.\n",
    "    If you don't know the answer, say you don't know.\n",
    "    If the human asks questions not related to mental health, remind them that your job is to help\n",
    "    them understand their mental health status, and ask them for a question on that topic. If they ask a question which\n",
    "    there is not enough information to answer, tell them you don't know and don't make up an\n",
    "    answer.\n",
    "\n",
    "    Question: {query}\n",
    "    Answer:\n",
    "    \"\"\".format(query=statement)\n",
    "\n",
    "    predicted_status = status_results[0].predict([statement])[0]\n",
    "    predicted_sentiment = sentiment_results[0].predict([statement])[0]\n",
    "    # Generate a response using the model\n",
    "    response = model.generate_content(prompt_template)\n",
    "\n",
    "    # Format the output\n",
    "    formatted_response = f\"{response.text}\\nPredicted_Status: {predicted_status}\\nPredicted_Sentiment: {predicted_sentiment}\"\n",
    "\n",
    "    return formatted_response\n",
    "\n"
   ]
  },
  {
   "cell_type": "code",
   "execution_count": 32,
   "metadata": {},
   "outputs": [
    {
     "name": "stdout",
     "output_type": "stream",
     "text": [
      "* Running on local URL:  http://127.0.0.1:7880\n",
      "\n",
      "To create a public link, set `share=True` in `launch()`.\n"
     ]
    },
    {
     "data": {
      "text/html": [
       "<div><iframe src=\"http://127.0.0.1:7880/\" width=\"100%\" height=\"500\" allow=\"autoplay; camera; microphone; clipboard-read; clipboard-write;\" frameborder=\"0\" allowfullscreen></iframe></div>"
      ],
      "text/plain": [
       "<IPython.core.display.HTML object>"
      ]
     },
     "metadata": {},
     "output_type": "display_data"
    },
    {
     "data": {
      "text/plain": []
     },
     "execution_count": 32,
     "metadata": {},
     "output_type": "execute_result"
    }
   ],
   "source": [
    "# Define Gradio interface\n",
    "app = gr.Interface(\n",
    "    fn=mental_health_chatbot_gemini, # Use the mental_health_chatbot function\n",
    "    inputs=gr.Textbox(label=\"Enter your statement\"), # Use gr.inputs.Textbox\n",
    "    outputs=gr.Textbox(label=\"Mental Health Chatbot Response\", show_copy_button=True) # Use gr.outputs.Textbox\n",
    ")\n",
    "\n",
    "# Step 4: Launch the Gradio app\n",
    "app.launch(show_error=True)\n"
   ]
  }
 ],
 "metadata": {
  "colab": {
   "provenance": []
  },
  "kernelspec": {
   "display_name": "Python 3",
   "language": "python",
   "name": "python3"
  },
  "language_info": {
   "codemirror_mode": {
    "name": "ipython",
    "version": 3
   },
   "file_extension": ".py",
   "mimetype": "text/x-python",
   "name": "python",
   "nbconvert_exporter": "python",
   "pygments_lexer": "ipython3",
   "version": "3.12.6"
  }
 },
 "nbformat": 4,
 "nbformat_minor": 4
}
